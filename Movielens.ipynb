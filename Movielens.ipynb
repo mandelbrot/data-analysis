{
 "cells": [
  {
   "cell_type": "markdown",
   "metadata": {},
   "source": [
    "# Recommender 3000 "
   ]
  },
  {
   "cell_type": "markdown",
   "metadata": {},
   "source": [
    "Dataset info: http://files.grouplens.org/datasets/movielens/ml-20m-README.html. We are using sample dataset http://files.grouplens.org/datasets/movielens/ml-latest-small.zip."
   ]
  },
  {
   "cell_type": "code",
   "execution_count": 1,
   "metadata": {
    "collapsed": false
   },
   "outputs": [
    {
     "name": "stdout",
     "output_type": "stream",
     "text": [
      "Movies count: 9125\n"
     ]
    },
    {
     "name": "stderr",
     "output_type": "stream",
     "text": [
      "/usr/local/lib/python3.4/dist-packages/IPython/html.py:14: ShimWarning: The `IPython.html` package has been deprecated. You should import from `notebook` instead. `IPython.html.widgets` has moved to `ipywidgets`.\n",
      "  \"`IPython.html.widgets` has moved to `ipywidgets`.\", ShimWarning)\n"
     ]
    },
    {
     "data": {
      "text/html": [
       "<div>\n",
       "<table border=\"1\" class=\"dataframe\">\n",
       "  <thead>\n",
       "    <tr style=\"text-align: right;\">\n",
       "      <th></th>\n",
       "      <th>movieId</th>\n",
       "      <th>title</th>\n",
       "      <th>genres</th>\n",
       "    </tr>\n",
       "  </thead>\n",
       "  <tbody>\n",
       "    <tr>\n",
       "      <th>0</th>\n",
       "      <td>1</td>\n",
       "      <td>Toy Story (1995)</td>\n",
       "      <td>Adventure|Animation|Children|Comedy|Fantasy</td>\n",
       "    </tr>\n",
       "    <tr>\n",
       "      <th>1</th>\n",
       "      <td>2</td>\n",
       "      <td>Jumanji (1995)</td>\n",
       "      <td>Adventure|Children|Fantasy</td>\n",
       "    </tr>\n",
       "    <tr>\n",
       "      <th>2</th>\n",
       "      <td>3</td>\n",
       "      <td>Grumpier Old Men (1995)</td>\n",
       "      <td>Comedy|Romance</td>\n",
       "    </tr>\n",
       "    <tr>\n",
       "      <th>3</th>\n",
       "      <td>4</td>\n",
       "      <td>Waiting to Exhale (1995)</td>\n",
       "      <td>Comedy|Drama|Romance</td>\n",
       "    </tr>\n",
       "    <tr>\n",
       "      <th>4</th>\n",
       "      <td>5</td>\n",
       "      <td>Father of the Bride Part II (1995)</td>\n",
       "      <td>Comedy</td>\n",
       "    </tr>\n",
       "  </tbody>\n",
       "</table>\n",
       "</div>"
      ],
      "text/plain": [
       "   movieId                               title  \\\n",
       "0        1                    Toy Story (1995)   \n",
       "1        2                      Jumanji (1995)   \n",
       "2        3             Grumpier Old Men (1995)   \n",
       "3        4            Waiting to Exhale (1995)   \n",
       "4        5  Father of the Bride Part II (1995)   \n",
       "\n",
       "                                        genres  \n",
       "0  Adventure|Animation|Children|Comedy|Fantasy  \n",
       "1                   Adventure|Children|Fantasy  \n",
       "2                               Comedy|Romance  \n",
       "3                         Comedy|Drama|Romance  \n",
       "4                                       Comedy  "
      ]
     },
     "execution_count": 1,
     "metadata": {},
     "output_type": "execute_result"
    }
   ],
   "source": [
    "import numpy as np\n",
    "import pandas as pd\n",
    "import matplotlib.pyplot as plt\n",
    "import seaborn as sns\n",
    "%matplotlib inline\n",
    "\n",
    "data_dir='./ml-latest-small/'\n",
    "\n",
    "movies = pd.read_csv(data_dir + 'movies.csv', header = 0)\n",
    "print(\"Movies count: \" + str(movies.shape[0]))\n",
    "movies.head()"
   ]
  },
  {
   "cell_type": "markdown",
   "metadata": {},
   "source": [
    "We can extract year from movie title. Movies without year in title will have value 0. Some \"movies\" have '-' in title which means they are in fact series."
   ]
  },
  {
   "cell_type": "code",
   "execution_count": 2,
   "metadata": {
    "collapsed": false
   },
   "outputs": [
    {
     "name": "stdout",
     "output_type": "stream",
     "text": [
      "[0, 1902, 1915, 1916, 1917, 1918, 1919, 1920, 1921, 1922, 1923, 1924, 1925, 1926, 1927, 1928, 1929, 1930, 1931, 1932, 1933, 1934, 1935, 1936, 1937, 1938, 1939, 1940, 1941, 1942, 1943, 1944, 1945, 1946, 1947, 1948, 1949, 1950, 1951, 1952, 1953, 1954, 1955, 1956, 1957, 1958, 1959, 1960, 1961, 1962, 1963, 1964, 1965, 1966, 1967, 1968, 1969, 1970, 1971, 1972, 1973, 1974, 1975, 1976, 1977, 1978, 1979, 1980, 1981, 1982, 1983, 1984, 1985, 1986, 1987, 1988, 1989, 1990, 1991, 1992, 1993, 1994, 1995, 1996, 1997, 1998, 1999, 2000, 2001, 2002, 2003, 2004, 2005, 2006, 2007, 2008, 2009, 2010, 2011, 2012, 2013, 2014, 2015, 2016]\n"
     ]
    }
   ],
   "source": [
    "movies['title'] = movies['title'].apply(lambda x: x.strip())\n",
    "\n",
    "#if series, e.g. \"2007-2013\", extract only first year!\n",
    "movies['Movie_year'] = movies[\"title\"].str.extract(\"\\((\\d{4}[-]?\\d{0,})\\)$\", expand=False)\n",
    "movies.Movie_year = movies.Movie_year.fillna('0')\n",
    "movies['Movie_year'] = movies['Movie_year'].apply(lambda x: int(x.split('-')[0]))\n",
    "print(sorted(movies['Movie_year'].unique()))"
   ]
  },
  {
   "cell_type": "code",
   "execution_count": 3,
   "metadata": {
    "collapsed": false
   },
   "outputs": [
    {
     "data": {
      "text/html": [
       "<div>\n",
       "<table border=\"1\" class=\"dataframe\">\n",
       "  <thead>\n",
       "    <tr style=\"text-align: right;\">\n",
       "      <th></th>\n",
       "      <th>movieId</th>\n",
       "      <th>title</th>\n",
       "      <th>genres</th>\n",
       "      <th>Movie_year</th>\n",
       "    </tr>\n",
       "  </thead>\n",
       "  <tbody>\n",
       "    <tr>\n",
       "      <th>0</th>\n",
       "      <td>1</td>\n",
       "      <td>Toy Story (1995)</td>\n",
       "      <td>Adventure|Animation|Children|Comedy|Fantasy</td>\n",
       "      <td>1995</td>\n",
       "    </tr>\n",
       "    <tr>\n",
       "      <th>1</th>\n",
       "      <td>2</td>\n",
       "      <td>Jumanji (1995)</td>\n",
       "      <td>Adventure|Children|Fantasy</td>\n",
       "      <td>1995</td>\n",
       "    </tr>\n",
       "    <tr>\n",
       "      <th>2</th>\n",
       "      <td>3</td>\n",
       "      <td>Grumpier Old Men (1995)</td>\n",
       "      <td>Comedy|Romance</td>\n",
       "      <td>1995</td>\n",
       "    </tr>\n",
       "    <tr>\n",
       "      <th>3</th>\n",
       "      <td>4</td>\n",
       "      <td>Waiting to Exhale (1995)</td>\n",
       "      <td>Comedy|Drama|Romance</td>\n",
       "      <td>1995</td>\n",
       "    </tr>\n",
       "    <tr>\n",
       "      <th>4</th>\n",
       "      <td>5</td>\n",
       "      <td>Father of the Bride Part II (1995)</td>\n",
       "      <td>Comedy</td>\n",
       "      <td>1995</td>\n",
       "    </tr>\n",
       "  </tbody>\n",
       "</table>\n",
       "</div>"
      ],
      "text/plain": [
       "   movieId                               title  \\\n",
       "0        1                    Toy Story (1995)   \n",
       "1        2                      Jumanji (1995)   \n",
       "2        3             Grumpier Old Men (1995)   \n",
       "3        4            Waiting to Exhale (1995)   \n",
       "4        5  Father of the Bride Part II (1995)   \n",
       "\n",
       "                                        genres  Movie_year  \n",
       "0  Adventure|Animation|Children|Comedy|Fantasy        1995  \n",
       "1                   Adventure|Children|Fantasy        1995  \n",
       "2                               Comedy|Romance        1995  \n",
       "3                         Comedy|Drama|Romance        1995  \n",
       "4                                       Comedy        1995  "
      ]
     },
     "execution_count": 3,
     "metadata": {},
     "output_type": "execute_result"
    }
   ],
   "source": [
    "movies.head()"
   ]
  },
  {
   "cell_type": "code",
   "execution_count": 4,
   "metadata": {
    "collapsed": false
   },
   "outputs": [
    {
     "data": {
      "text/html": [
       "<div>\n",
       "<table border=\"1\" class=\"dataframe\">\n",
       "  <thead>\n",
       "    <tr style=\"text-align: right;\">\n",
       "      <th></th>\n",
       "      <th>movieId</th>\n",
       "      <th>title</th>\n",
       "      <th>genres</th>\n",
       "      <th>Movie_year</th>\n",
       "    </tr>\n",
       "  </thead>\n",
       "  <tbody>\n",
       "    <tr>\n",
       "      <th>9120</th>\n",
       "      <td>162672</td>\n",
       "      <td>Mohenjo Daro (2016)</td>\n",
       "      <td>Adventure|Drama|Romance</td>\n",
       "      <td>2016</td>\n",
       "    </tr>\n",
       "    <tr>\n",
       "      <th>9121</th>\n",
       "      <td>163056</td>\n",
       "      <td>Shin Godzilla (2016)</td>\n",
       "      <td>Action|Adventure|Fantasy|Sci-Fi</td>\n",
       "      <td>2016</td>\n",
       "    </tr>\n",
       "    <tr>\n",
       "      <th>9122</th>\n",
       "      <td>163949</td>\n",
       "      <td>The Beatles: Eight Days a Week - The Touring Y...</td>\n",
       "      <td>Documentary</td>\n",
       "      <td>2016</td>\n",
       "    </tr>\n",
       "    <tr>\n",
       "      <th>9123</th>\n",
       "      <td>164977</td>\n",
       "      <td>The Gay Desperado (1936)</td>\n",
       "      <td>Comedy</td>\n",
       "      <td>1936</td>\n",
       "    </tr>\n",
       "    <tr>\n",
       "      <th>9124</th>\n",
       "      <td>164979</td>\n",
       "      <td>Women of '69, Unboxed</td>\n",
       "      <td>Documentary</td>\n",
       "      <td>0</td>\n",
       "    </tr>\n",
       "  </tbody>\n",
       "</table>\n",
       "</div>"
      ],
      "text/plain": [
       "      movieId                                              title  \\\n",
       "9120   162672                                Mohenjo Daro (2016)   \n",
       "9121   163056                               Shin Godzilla (2016)   \n",
       "9122   163949  The Beatles: Eight Days a Week - The Touring Y...   \n",
       "9123   164977                           The Gay Desperado (1936)   \n",
       "9124   164979                              Women of '69, Unboxed   \n",
       "\n",
       "                               genres  Movie_year  \n",
       "9120          Adventure|Drama|Romance        2016  \n",
       "9121  Action|Adventure|Fantasy|Sci-Fi        2016  \n",
       "9122                      Documentary        2016  \n",
       "9123                           Comedy        1936  \n",
       "9124                      Documentary           0  "
      ]
     },
     "execution_count": 4,
     "metadata": {},
     "output_type": "execute_result"
    }
   ],
   "source": [
    "movies.tail()"
   ]
  },
  {
   "cell_type": "markdown",
   "metadata": {},
   "source": [
    "Distribution of movies by year. Golden years for cinephiles are 1990-."
   ]
  },
  {
   "cell_type": "code",
   "execution_count": 5,
   "metadata": {
    "collapsed": false
   },
   "outputs": [
    {
     "data": {
      "image/png": "[encoded data removed]",
      "text/plain": [
       "<matplotlib.figure.Figure at 0x7facc44a35f8>"
      ]
     },
     "metadata": {},
     "output_type": "display_data"
    }
   ],
   "source": [
    "moviesYears = movies.loc[:,\"Movie_year\"].sort_values().reset_index()\n",
    "plot = sns.countplot(x = 'Movie_year', data = moviesYears)\n",
    "for ind, label in enumerate(plot.get_xticklabels()):\n",
    "    if ind % 10 == 0:  # every 10th label is kept\n",
    "        label.set_visible(True)\n",
    "    else:\n",
    "        label.set_visible(False)"
   ]
  },
  {
   "cell_type": "code",
   "execution_count": 6,
   "metadata": {
    "collapsed": false
   },
   "outputs": [
    {
     "data": {
      "image/png": "[encoded data removed]",
      "text/plain": [
       "<matplotlib.figure.Figure at 0x7fac868a78d0>"
      ]
     },
     "metadata": {},
     "output_type": "display_data"
    }
   ],
   "source": [
    "moviesYears = movies.loc[movies[\"Movie_year\"] > 1990,\"Movie_year\"].sort_values().reset_index()\n",
    "plot = sns.countplot(x = 'Movie_year', data = moviesYears)\n",
    "for item in plot.get_xticklabels():\n",
    "    item.set_rotation(60)"
   ]
  },
  {
   "cell_type": "markdown",
   "metadata": {},
   "source": [
    "Genre is of 'genre1|genre2|genre3|...' type. We can encode genre as 0-1 columns splitting genres column by '|'."
   ]
  },
  {
   "cell_type": "code",
   "execution_count": 7,
   "metadata": {
    "collapsed": false
   },
   "outputs": [
    {
     "data": {
      "text/html": [
       "<div>\n",
       "<table border=\"1\" class=\"dataframe\">\n",
       "  <thead>\n",
       "    <tr style=\"text-align: right;\">\n",
       "      <th></th>\n",
       "      <th>movieId</th>\n",
       "      <th>title</th>\n",
       "      <th>genres</th>\n",
       "      <th>Movie_year</th>\n",
       "      <th>Genre_Action</th>\n",
       "      <th>Genre_Adventure</th>\n",
       "      <th>Genre_Animation</th>\n",
       "      <th>Genre_Children</th>\n",
       "      <th>Genre_Comedy</th>\n",
       "      <th>Genre_Crime</th>\n",
       "      <th>...</th>\n",
       "      <th>Genre_IMAX</th>\n",
       "      <th>Genre_Musical</th>\n",
       "      <th>Genre_Mystery</th>\n",
       "      <th>Genre_Romance</th>\n",
       "      <th>Genre_Sci-Fi</th>\n",
       "      <th>Genre_Thriller</th>\n",
       "      <th>Genre_War</th>\n",
       "      <th>Genre_Western</th>\n",
       "      <th>Genre_(no genres listed)</th>\n",
       "      <th>genresNbr</th>\n",
       "    </tr>\n",
       "  </thead>\n",
       "  <tbody>\n",
       "    <tr>\n",
       "      <th>0</th>\n",
       "      <td>1</td>\n",
       "      <td>Toy Story (1995)</td>\n",
       "      <td>Adventure|Animation|Children|Comedy|Fantasy</td>\n",
       "      <td>1995</td>\n",
       "      <td>0</td>\n",
       "      <td>1</td>\n",
       "      <td>1</td>\n",
       "      <td>1</td>\n",
       "      <td>1</td>\n",
       "      <td>0</td>\n",
       "      <td>...</td>\n",
       "      <td>0</td>\n",
       "      <td>0</td>\n",
       "      <td>0</td>\n",
       "      <td>0</td>\n",
       "      <td>0</td>\n",
       "      <td>0</td>\n",
       "      <td>0</td>\n",
       "      <td>0</td>\n",
       "      <td>0</td>\n",
       "      <td>5</td>\n",
       "    </tr>\n",
       "    <tr>\n",
       "      <th>1</th>\n",
       "      <td>2</td>\n",
       "      <td>Jumanji (1995)</td>\n",
       "      <td>Adventure|Children|Fantasy</td>\n",
       "      <td>1995</td>\n",
       "      <td>0</td>\n",
       "      <td>1</td>\n",
       "      <td>0</td>\n",
       "      <td>1</td>\n",
       "      <td>0</td>\n",
       "      <td>0</td>\n",
       "      <td>...</td>\n",
       "      <td>0</td>\n",
       "      <td>0</td>\n",
       "      <td>0</td>\n",
       "      <td>0</td>\n",
       "      <td>0</td>\n",
       "      <td>0</td>\n",
       "      <td>0</td>\n",
       "      <td>0</td>\n",
       "      <td>0</td>\n",
       "      <td>3</td>\n",
       "    </tr>\n",
       "    <tr>\n",
       "      <th>2</th>\n",
       "      <td>3</td>\n",
       "      <td>Grumpier Old Men (1995)</td>\n",
       "      <td>Comedy|Romance</td>\n",
       "      <td>1995</td>\n",
       "      <td>0</td>\n",
       "      <td>0</td>\n",
       "      <td>0</td>\n",
       "      <td>0</td>\n",
       "      <td>1</td>\n",
       "      <td>0</td>\n",
       "      <td>...</td>\n",
       "      <td>0</td>\n",
       "      <td>0</td>\n",
       "      <td>0</td>\n",
       "      <td>1</td>\n",
       "      <td>0</td>\n",
       "      <td>0</td>\n",
       "      <td>0</td>\n",
       "      <td>0</td>\n",
       "      <td>0</td>\n",
       "      <td>2</td>\n",
       "    </tr>\n",
       "    <tr>\n",
       "      <th>3</th>\n",
       "      <td>4</td>\n",
       "      <td>Waiting to Exhale (1995)</td>\n",
       "      <td>Comedy|Drama|Romance</td>\n",
       "      <td>1995</td>\n",
       "      <td>0</td>\n",
       "      <td>0</td>\n",
       "      <td>0</td>\n",
       "      <td>0</td>\n",
       "      <td>1</td>\n",
       "      <td>0</td>\n",
       "      <td>...</td>\n",
       "      <td>0</td>\n",
       "      <td>0</td>\n",
       "      <td>0</td>\n",
       "      <td>1</td>\n",
       "      <td>0</td>\n",
       "      <td>0</td>\n",
       "      <td>0</td>\n",
       "      <td>0</td>\n",
       "      <td>0</td>\n",
       "      <td>3</td>\n",
       "    </tr>\n",
       "    <tr>\n",
       "      <th>4</th>\n",
       "      <td>5</td>\n",
       "      <td>Father of the Bride Part II (1995)</td>\n",
       "      <td>Comedy</td>\n",
       "      <td>1995</td>\n",
       "      <td>0</td>\n",
       "      <td>0</td>\n",
       "      <td>0</td>\n",
       "      <td>0</td>\n",
       "      <td>1</td>\n",
       "      <td>0</td>\n",
       "      <td>...</td>\n",
       "      <td>0</td>\n",
       "      <td>0</td>\n",
       "      <td>0</td>\n",
       "      <td>0</td>\n",
       "      <td>0</td>\n",
       "      <td>0</td>\n",
       "      <td>0</td>\n",
       "      <td>0</td>\n",
       "      <td>0</td>\n",
       "      <td>1</td>\n",
       "    </tr>\n",
       "  </tbody>\n",
       "</table>\n",
       "<p>5 rows × 25 columns</p>\n",
       "</div>"
      ],
      "text/plain": [
       "   movieId                               title  \\\n",
       "0        1                    Toy Story (1995)   \n",
       "1        2                      Jumanji (1995)   \n",
       "2        3             Grumpier Old Men (1995)   \n",
       "3        4            Waiting to Exhale (1995)   \n",
       "4        5  Father of the Bride Part II (1995)   \n",
       "\n",
       "                                        genres  Movie_year  Genre_Action  \\\n",
       "0  Adventure|Animation|Children|Comedy|Fantasy        1995             0   \n",
       "1                   Adventure|Children|Fantasy        1995             0   \n",
       "2                               Comedy|Romance        1995             0   \n",
       "3                         Comedy|Drama|Romance        1995             0   \n",
       "4                                       Comedy        1995             0   \n",
       "\n",
       "   Genre_Adventure  Genre_Animation  Genre_Children  Genre_Comedy  \\\n",
       "0                1                1               1             1   \n",
       "1                1                0               1             0   \n",
       "2                0                0               0             1   \n",
       "3                0                0               0             1   \n",
       "4                0                0               0             1   \n",
       "\n",
       "   Genre_Crime    ...      Genre_IMAX  Genre_Musical  Genre_Mystery  \\\n",
       "0            0    ...               0              0              0   \n",
       "1            0    ...               0              0              0   \n",
       "2            0    ...               0              0              0   \n",
       "3            0    ...               0              0              0   \n",
       "4            0    ...               0              0              0   \n",
       "\n",
       "   Genre_Romance  Genre_Sci-Fi  Genre_Thriller  Genre_War  Genre_Western  \\\n",
       "0              0             0               0          0              0   \n",
       "1              0             0               0          0              0   \n",
       "2              1             0               0          0              0   \n",
       "3              1             0               0          0              0   \n",
       "4              0             0               0          0              0   \n",
       "\n",
       "   Genre_(no genres listed)  genresNbr  \n",
       "0                         0          5  \n",
       "1                         0          3  \n",
       "2                         0          2  \n",
       "3                         0          3  \n",
       "4                         0          1  \n",
       "\n",
       "[5 rows x 25 columns]"
      ]
     },
     "execution_count": 7,
     "metadata": {},
     "output_type": "execute_result"
    }
   ],
   "source": [
    "genres = [\"Action\",\"Adventure\",\"Animation\",\"Children\",\"Comedy\",\"Crime\",\"Documentary\",\n",
    "    \"Drama\",\"Fantasy\",\"Film-Noir\",\"Horror\",\"IMAX\",\"Musical\",\"Mystery\",\"Romance\",\"Sci-Fi\",\n",
    "    \"Thriller\",\"War\",\"Western\",\"(no genres listed)\"]\n",
    "\n",
    "genresCols=[]\n",
    "\n",
    "for col in genres:\n",
    "    movies['Genre_' + col] = movies['genres'].apply(lambda x: int(col in x))\n",
    "    genresCols.append('Genre_' + col)\n",
    "\n",
    "movies['genresNbr'] = movies['genres'].apply(lambda x: len(x.split('|')))\n",
    "\n",
    "movies.head()"
   ]
  },
  {
   "cell_type": "markdown",
   "metadata": {},
   "source": [
    "Genre distribution:"
   ]
  },
  {
   "cell_type": "code",
   "execution_count": 8,
   "metadata": {
    "collapsed": false
   },
   "outputs": [
    {
     "data": {
      "image/png": "[encoded data removed]",
      "text/plain": [
       "<matplotlib.figure.Figure at 0x7fac86711cf8>"
      ]
     },
     "metadata": {},
     "output_type": "display_data"
    },
    {
     "data": {
      "image/png": "[encoded data removed]",
      "text/plain": [
       "<matplotlib.figure.Figure at 0x7fac865f5ac8>"
      ]
     },
     "metadata": {},
     "output_type": "display_data"
    },
    {
     "data": {
      "image/png": "[encoded data removed]",
      "text/plain": [
       "<matplotlib.figure.Figure at 0x7fac862d3160>"
      ]
     },
     "metadata": {},
     "output_type": "display_data"
    },
    {
     "data": {
      "image/png": "[encoded data removed]",
      "text/plain": [
       "<matplotlib.figure.Figure at 0x7fac8618a080>"
      ]
     },
     "metadata": {},
     "output_type": "display_data"
    },
    {
     "data": {
      "image/png": "[encoded data removed]",
      "text/plain": [
       "<matplotlib.figure.Figure at 0x7fac860aeb70>"
      ]
     },
     "metadata": {},
     "output_type": "display_data"
    }
   ],
   "source": [
    "genreDistribution = movies.loc[:,genresCols]\n",
    "\n",
    "ncol = 4\n",
    "nrow = 5\n",
    "\n",
    "for rowIndex in range(nrow):\n",
    "    f,axList = plt.subplots(nrows = 1, ncols = ncol, figsize = (13, 7), sharey = True)\n",
    "    features = genresCols[rowIndex*ncol:ncol*(rowIndex+1)]\n",
    "    \n",
    "    for axIndex in range(ncol):\n",
    "        sns.countplot(x = features[axIndex], data = genreDistribution, ax = axList[axIndex])\n",
    "        axList[axIndex].set(xlabel = features[axIndex])"
   ]
  },
  {
   "cell_type": "markdown",
   "metadata": {},
   "source": [
    "Let's load ratings dataset. We can see that not all movies have rating. For simplicity they will be later thrown out."
   ]
  },
  {
   "cell_type": "code",
   "execution_count": 9,
   "metadata": {
    "collapsed": false
   },
   "outputs": [
    {
     "name": "stdout",
     "output_type": "stream",
     "text": [
      "Ratings count: 100004\n",
      "User count: 671\n",
      "Rated movies count: 9066\n"
     ]
    },
    {
     "data": {
      "text/html": [
       "<div>\n",
       "<table border=\"1\" class=\"dataframe\">\n",
       "  <thead>\n",
       "    <tr style=\"text-align: right;\">\n",
       "      <th></th>\n",
       "      <th>userId</th>\n",
       "      <th>movieId</th>\n",
       "      <th>rating</th>\n",
       "      <th>timestamp</th>\n",
       "    </tr>\n",
       "  </thead>\n",
       "  <tbody>\n",
       "    <tr>\n",
       "      <th>0</th>\n",
       "      <td>1</td>\n",
       "      <td>31</td>\n",
       "      <td>2.5</td>\n",
       "      <td>1260759144</td>\n",
       "    </tr>\n",
       "    <tr>\n",
       "      <th>1</th>\n",
       "      <td>1</td>\n",
       "      <td>1029</td>\n",
       "      <td>3.0</td>\n",
       "      <td>1260759179</td>\n",
       "    </tr>\n",
       "    <tr>\n",
       "      <th>2</th>\n",
       "      <td>1</td>\n",
       "      <td>1061</td>\n",
       "      <td>3.0</td>\n",
       "      <td>1260759182</td>\n",
       "    </tr>\n",
       "    <tr>\n",
       "      <th>3</th>\n",
       "      <td>1</td>\n",
       "      <td>1129</td>\n",
       "      <td>2.0</td>\n",
       "      <td>1260759185</td>\n",
       "    </tr>\n",
       "    <tr>\n",
       "      <th>4</th>\n",
       "      <td>1</td>\n",
       "      <td>1172</td>\n",
       "      <td>4.0</td>\n",
       "      <td>1260759205</td>\n",
       "    </tr>\n",
       "  </tbody>\n",
       "</table>\n",
       "</div>"
      ],
      "text/plain": [
       "   userId  movieId  rating   timestamp\n",
       "0       1       31     2.5  1260759144\n",
       "1       1     1029     3.0  1260759179\n",
       "2       1     1061     3.0  1260759182\n",
       "3       1     1129     2.0  1260759185\n",
       "4       1     1172     4.0  1260759205"
      ]
     },
     "execution_count": 9,
     "metadata": {},
     "output_type": "execute_result"
    }
   ],
   "source": [
    "ratings = pd.read_csv(data_dir + 'ratings.csv', header = 0)\n",
    "\n",
    "print(\"Ratings count: \" + str(ratings.shape[0]))\n",
    "print(\"User count: \" + str(len(ratings.userId.unique())))\n",
    "print(\"Rated movies count: \" + str(len(ratings.movieId.unique())))\n",
    "\n",
    "unratedMovies = list(set(movies.movieId.unique()) - set(ratings.movieId.unique()))\n",
    "\n",
    "ratedMovies = ratings.movieId.unique()\n",
    "\n",
    "ratings.head()"
   ]
  },
  {
   "cell_type": "markdown",
   "metadata": {},
   "source": [
    "Ratings distribution:"
   ]
  },
  {
   "cell_type": "code",
   "execution_count": 10,
   "metadata": {
    "collapsed": false
   },
   "outputs": [
    {
     "name": "stdout",
     "output_type": "stream",
     "text": [
      "count    100004.000000\n",
      "mean          3.543608\n",
      "std           1.058064\n",
      "min           0.500000\n",
      "25%           3.000000\n",
      "50%           4.000000\n",
      "75%           4.000000\n",
      "max           5.000000\n",
      "Name: rating, dtype: float64\n"
     ]
    },
    {
     "data": {
      "text/plain": [
       "<matplotlib.axes._subplots.AxesSubplot at 0x7fac86900fd0>"
      ]
     },
     "execution_count": 10,
     "metadata": {},
     "output_type": "execute_result"
    },
    {
     "data": {
      "image/png": "[encoded data removed]",
      "text/plain": [
       "<matplotlib.figure.Figure at 0x7fac867c8668>"
      ]
     },
     "metadata": {},
     "output_type": "display_data"
    }
   ],
   "source": [
    "print(ratings[\"rating\"].describe())\n",
    "\n",
    "movieRatings = ratings.loc[:,\"rating\"].sort_values().reset_index()\n",
    "sns.countplot(x = 'rating', data = movieRatings)"
   ]
  },
  {
   "cell_type": "markdown",
   "metadata": {},
   "source": [
    "Ratings count >= 4 and < 4 is similar, which justifies eventual classification (label ratings >= 4 as 1 and < 4 as 0)."
   ]
  },
  {
   "cell_type": "code",
   "execution_count": 11,
   "metadata": {
    "collapsed": false
   },
   "outputs": [
    {
     "name": "stdout",
     "output_type": "stream",
     "text": [
      "51568\n",
      "48436\n"
     ]
    }
   ],
   "source": [
    "print(len(ratings[ratings[\"rating\"] >= 4]))\n",
    "print(len(ratings[ratings[\"rating\"] < 4]))"
   ]
  },
  {
   "cell_type": "markdown",
   "metadata": {},
   "source": [
    "Ratings count per user:"
   ]
  },
  {
   "cell_type": "code",
   "execution_count": 12,
   "metadata": {
    "collapsed": false
   },
   "outputs": [
    {
     "name": "stdout",
     "output_type": "stream",
     "text": [
      "count     671.000000\n",
      "mean      149.037258\n",
      "std       231.226948\n",
      "min        20.000000\n",
      "25%        37.000000\n",
      "50%        71.000000\n",
      "75%       161.000000\n",
      "max      2391.000000\n",
      "Name: rating, dtype: float64\n"
     ]
    },
    {
     "data": {
      "image/png": "[encoded data removed]",
      "text/plain": [
       "<matplotlib.figure.Figure at 0x7fac85dc8400>"
      ]
     },
     "metadata": {},
     "output_type": "display_data"
    }
   ],
   "source": [
    "r = ratings.loc[:, ['userId','rating']]\n",
    "ru = r.groupby('userId').count()\n",
    "ru = ru.loc[:, \"rating\"].sort_values().reset_index()\n",
    "print(ru.loc[:, \"rating\"].describe())\n",
    "sns.barplot(ru.index, ru.rating)\n",
    "del r\n",
    "del ru"
   ]
  },
  {
   "cell_type": "markdown",
   "metadata": {},
   "source": [
    "Average rating distribution per user:"
   ]
  },
  {
   "cell_type": "code",
   "execution_count": 13,
   "metadata": {
    "collapsed": false
   },
   "outputs": [
    {
     "name": "stdout",
     "output_type": "stream",
     "text": [
      "count    671.000000\n",
      "mean       3.657587\n",
      "std        0.471339\n",
      "min        1.333333\n",
      "25%        3.396193\n",
      "50%        3.675000\n",
      "75%        3.984026\n",
      "max        4.948718\n",
      "Name: rating, dtype: float64\n"
     ]
    },
    {
     "data": {
      "image/png": "[encoded data removed]",
      "text/plain": [
       "<matplotlib.figure.Figure at 0x7fac85df5358>"
      ]
     },
     "metadata": {},
     "output_type": "display_data"
    }
   ],
   "source": [
    "r = ratings.loc[:, ['userId','rating']]\n",
    "r = r.groupby('userId').mean()\n",
    "r = r.loc[:, \"rating\"].sort_values().reset_index()\n",
    "print(r.loc[:, \"rating\"].describe())\n",
    "sns.barplot(r.index, r.rating)\n",
    "del r"
   ]
  },
  {
   "cell_type": "markdown",
   "metadata": {},
   "source": [
    "For movies without rating (cold start) we could set median of 3.675. Some users give lower/higher ratings to movies. Ther is user that rated 2391 movie."
   ]
  },
  {
   "cell_type": "markdown",
   "metadata": {},
   "source": [
    "There is not much to se in tags dataset so we will not use it in this analysis."
   ]
  },
  {
   "cell_type": "code",
   "execution_count": 14,
   "metadata": {
    "collapsed": false
   },
   "outputs": [
    {
     "name": "stdout",
     "output_type": "stream",
     "text": [
      "Tag count: 1296\n",
      "User count: 61\n",
      "Tagged movies count: 689\n"
     ]
    },
    {
     "data": {
      "text/html": [
       "<div>\n",
       "<table border=\"1\" class=\"dataframe\">\n",
       "  <thead>\n",
       "    <tr style=\"text-align: right;\">\n",
       "      <th></th>\n",
       "      <th>userId</th>\n",
       "      <th>movieId</th>\n",
       "      <th>tag</th>\n",
       "      <th>timestamp</th>\n",
       "    </tr>\n",
       "  </thead>\n",
       "  <tbody>\n",
       "    <tr>\n",
       "      <th>0</th>\n",
       "      <td>15</td>\n",
       "      <td>339</td>\n",
       "      <td>sandra 'boring' bullock</td>\n",
       "      <td>1138537770</td>\n",
       "    </tr>\n",
       "    <tr>\n",
       "      <th>1</th>\n",
       "      <td>15</td>\n",
       "      <td>1955</td>\n",
       "      <td>dentist</td>\n",
       "      <td>1193435061</td>\n",
       "    </tr>\n",
       "    <tr>\n",
       "      <th>2</th>\n",
       "      <td>15</td>\n",
       "      <td>7478</td>\n",
       "      <td>Cambodia</td>\n",
       "      <td>1170560997</td>\n",
       "    </tr>\n",
       "    <tr>\n",
       "      <th>3</th>\n",
       "      <td>15</td>\n",
       "      <td>32892</td>\n",
       "      <td>Russian</td>\n",
       "      <td>1170626366</td>\n",
       "    </tr>\n",
       "    <tr>\n",
       "      <th>4</th>\n",
       "      <td>15</td>\n",
       "      <td>34162</td>\n",
       "      <td>forgettable</td>\n",
       "      <td>1141391765</td>\n",
       "    </tr>\n",
       "  </tbody>\n",
       "</table>\n",
       "</div>"
      ],
      "text/plain": [
       "   userId  movieId                      tag   timestamp\n",
       "0      15      339  sandra 'boring' bullock  1138537770\n",
       "1      15     1955                  dentist  1193435061\n",
       "2      15     7478                 Cambodia  1170560997\n",
       "3      15    32892                  Russian  1170626366\n",
       "4      15    34162              forgettable  1141391765"
      ]
     },
     "execution_count": 14,
     "metadata": {},
     "output_type": "execute_result"
    }
   ],
   "source": [
    "tags = pd.read_csv(data_dir + 'tags.csv', header = 0)\n",
    "\n",
    "print(\"Tag count: \" + str(tags.shape[0]))\n",
    "print(\"User count: \" + str(len(tags.userId.unique())))\n",
    "print(\"Tagged movies count: \" + str(len(tags.movieId.unique())))\n",
    "\n",
    "tags.head()"
   ]
  },
  {
   "cell_type": "code",
   "execution_count": 15,
   "metadata": {
    "collapsed": true
   },
   "outputs": [],
   "source": [
    "del tags"
   ]
  },
  {
   "cell_type": "markdown",
   "metadata": {},
   "source": [
    "Remove movies without rating!"
   ]
  },
  {
   "cell_type": "code",
   "execution_count": 16,
   "metadata": {
    "collapsed": false
   },
   "outputs": [
    {
     "name": "stdout",
     "output_type": "stream",
     "text": [
      "(9125, 25)\n",
      "(9066, 25)\n"
     ]
    }
   ],
   "source": [
    "print(movies.shape)\n",
    "movies = movies[movies[\"movieId\"].isin(ratedMovies)]\n",
    "moviesIds = movies.movieId\n",
    "print(movies.shape)"
   ]
  },
  {
   "cell_type": "markdown",
   "metadata": {},
   "source": [
    "## Feature engineering "
   ]
  },
  {
   "cell_type": "markdown",
   "metadata": {},
   "source": [
    "We will make simple model (Content-based recommender system) by user genre preferences, and use the same as features in xgboost model."
   ]
  },
  {
   "cell_type": "code",
   "execution_count": 17,
   "metadata": {
    "collapsed": false,
    "scrolled": false
   },
   "outputs": [
    {
     "name": "stdout",
     "output_type": "stream",
     "text": [
      "(9066, 20)\n",
      "   Genre_Action  Genre_Adventure  Genre_Animation  Genre_Children  \\\n",
      "0             0                1                1               1   \n",
      "1             0                1                0               1   \n",
      "2             0                0                0               0   \n",
      "3             0                0                0               0   \n",
      "4             0                0                0               0   \n",
      "\n",
      "   Genre_Comedy  Genre_Crime  Genre_Documentary  Genre_Drama  Genre_Fantasy  \\\n",
      "0             1            0                  0            0              1   \n",
      "1             0            0                  0            0              1   \n",
      "2             1            0                  0            0              0   \n",
      "3             1            0                  0            1              0   \n",
      "4             1            0                  0            0              0   \n",
      "\n",
      "   Genre_Film-Noir  Genre_Horror  Genre_IMAX  Genre_Musical  Genre_Mystery  \\\n",
      "0                0             0           0              0              0   \n",
      "1                0             0           0              0              0   \n",
      "2                0             0           0              0              0   \n",
      "3                0             0           0              0              0   \n",
      "4                0             0           0              0              0   \n",
      "\n",
      "   Genre_Romance  Genre_Sci-Fi  Genre_Thriller  Genre_War  Genre_Western  \\\n",
      "0              0             0               0          0              0   \n",
      "1              0             0               0          0              0   \n",
      "2              1             0               0          0              0   \n",
      "3              1             0               0          0              0   \n",
      "4              0             0               0          0              0   \n",
      "\n",
      "   Genre_(no genres listed)  \n",
      "0                         0  \n",
      "1                         0  \n",
      "2                         0  \n",
      "3                         0  \n",
      "4                         0  \n",
      "(671, 9066)\n"
     ]
    },
    {
     "data": {
      "text/html": [
       "<div>\n",
       "<table border=\"1\" class=\"dataframe\">\n",
       "  <thead>\n",
       "    <tr style=\"text-align: right;\">\n",
       "      <th>movieId</th>\n",
       "      <th>1</th>\n",
       "      <th>2</th>\n",
       "      <th>3</th>\n",
       "      <th>4</th>\n",
       "      <th>5</th>\n",
       "      <th>6</th>\n",
       "      <th>7</th>\n",
       "      <th>8</th>\n",
       "      <th>9</th>\n",
       "      <th>10</th>\n",
       "      <th>...</th>\n",
       "      <th>161084</th>\n",
       "      <th>161155</th>\n",
       "      <th>161594</th>\n",
       "      <th>161830</th>\n",
       "      <th>161918</th>\n",
       "      <th>161944</th>\n",
       "      <th>162376</th>\n",
       "      <th>162542</th>\n",
       "      <th>162672</th>\n",
       "      <th>163949</th>\n",
       "    </tr>\n",
       "    <tr>\n",
       "      <th>userId</th>\n",
       "      <th></th>\n",
       "      <th></th>\n",
       "      <th></th>\n",
       "      <th></th>\n",
       "      <th></th>\n",
       "      <th></th>\n",
       "      <th></th>\n",
       "      <th></th>\n",
       "      <th></th>\n",
       "      <th></th>\n",
       "      <th></th>\n",
       "      <th></th>\n",
       "      <th></th>\n",
       "      <th></th>\n",
       "      <th></th>\n",
       "      <th></th>\n",
       "      <th></th>\n",
       "      <th></th>\n",
       "      <th></th>\n",
       "      <th></th>\n",
       "      <th></th>\n",
       "    </tr>\n",
       "  </thead>\n",
       "  <tbody>\n",
       "    <tr>\n",
       "      <th>1</th>\n",
       "      <td>0.0</td>\n",
       "      <td>0.0</td>\n",
       "      <td>0.0</td>\n",
       "      <td>0.0</td>\n",
       "      <td>0.0</td>\n",
       "      <td>0.0</td>\n",
       "      <td>0.0</td>\n",
       "      <td>0.0</td>\n",
       "      <td>0.0</td>\n",
       "      <td>0.0</td>\n",
       "      <td>...</td>\n",
       "      <td>0.0</td>\n",
       "      <td>0.0</td>\n",
       "      <td>0.0</td>\n",
       "      <td>0.0</td>\n",
       "      <td>0.0</td>\n",
       "      <td>0.0</td>\n",
       "      <td>0.0</td>\n",
       "      <td>0.0</td>\n",
       "      <td>0.0</td>\n",
       "      <td>0.0</td>\n",
       "    </tr>\n",
       "    <tr>\n",
       "      <th>2</th>\n",
       "      <td>0.0</td>\n",
       "      <td>0.0</td>\n",
       "      <td>0.0</td>\n",
       "      <td>0.0</td>\n",
       "      <td>0.0</td>\n",
       "      <td>0.0</td>\n",
       "      <td>0.0</td>\n",
       "      <td>0.0</td>\n",
       "      <td>0.0</td>\n",
       "      <td>4.0</td>\n",
       "      <td>...</td>\n",
       "      <td>0.0</td>\n",
       "      <td>0.0</td>\n",
       "      <td>0.0</td>\n",
       "      <td>0.0</td>\n",
       "      <td>0.0</td>\n",
       "      <td>0.0</td>\n",
       "      <td>0.0</td>\n",
       "      <td>0.0</td>\n",
       "      <td>0.0</td>\n",
       "      <td>0.0</td>\n",
       "    </tr>\n",
       "    <tr>\n",
       "      <th>3</th>\n",
       "      <td>0.0</td>\n",
       "      <td>0.0</td>\n",
       "      <td>0.0</td>\n",
       "      <td>0.0</td>\n",
       "      <td>0.0</td>\n",
       "      <td>0.0</td>\n",
       "      <td>0.0</td>\n",
       "      <td>0.0</td>\n",
       "      <td>0.0</td>\n",
       "      <td>0.0</td>\n",
       "      <td>...</td>\n",
       "      <td>0.0</td>\n",
       "      <td>0.0</td>\n",
       "      <td>0.0</td>\n",
       "      <td>0.0</td>\n",
       "      <td>0.0</td>\n",
       "      <td>0.0</td>\n",
       "      <td>0.0</td>\n",
       "      <td>0.0</td>\n",
       "      <td>0.0</td>\n",
       "      <td>0.0</td>\n",
       "    </tr>\n",
       "    <tr>\n",
       "      <th>4</th>\n",
       "      <td>0.0</td>\n",
       "      <td>0.0</td>\n",
       "      <td>0.0</td>\n",
       "      <td>0.0</td>\n",
       "      <td>0.0</td>\n",
       "      <td>0.0</td>\n",
       "      <td>0.0</td>\n",
       "      <td>0.0</td>\n",
       "      <td>0.0</td>\n",
       "      <td>4.0</td>\n",
       "      <td>...</td>\n",
       "      <td>0.0</td>\n",
       "      <td>0.0</td>\n",
       "      <td>0.0</td>\n",
       "      <td>0.0</td>\n",
       "      <td>0.0</td>\n",
       "      <td>0.0</td>\n",
       "      <td>0.0</td>\n",
       "      <td>0.0</td>\n",
       "      <td>0.0</td>\n",
       "      <td>0.0</td>\n",
       "    </tr>\n",
       "    <tr>\n",
       "      <th>5</th>\n",
       "      <td>0.0</td>\n",
       "      <td>0.0</td>\n",
       "      <td>4.0</td>\n",
       "      <td>0.0</td>\n",
       "      <td>0.0</td>\n",
       "      <td>0.0</td>\n",
       "      <td>0.0</td>\n",
       "      <td>0.0</td>\n",
       "      <td>0.0</td>\n",
       "      <td>0.0</td>\n",
       "      <td>...</td>\n",
       "      <td>0.0</td>\n",
       "      <td>0.0</td>\n",
       "      <td>0.0</td>\n",
       "      <td>0.0</td>\n",
       "      <td>0.0</td>\n",
       "      <td>0.0</td>\n",
       "      <td>0.0</td>\n",
       "      <td>0.0</td>\n",
       "      <td>0.0</td>\n",
       "      <td>0.0</td>\n",
       "    </tr>\n",
       "  </tbody>\n",
       "</table>\n",
       "<p>5 rows × 9066 columns</p>\n",
       "</div>"
      ],
      "text/plain": [
       "movieId  1       2       3       4       5       6       7       8       \\\n",
       "userId                                                                    \n",
       "1           0.0     0.0     0.0     0.0     0.0     0.0     0.0     0.0   \n",
       "2           0.0     0.0     0.0     0.0     0.0     0.0     0.0     0.0   \n",
       "3           0.0     0.0     0.0     0.0     0.0     0.0     0.0     0.0   \n",
       "4           0.0     0.0     0.0     0.0     0.0     0.0     0.0     0.0   \n",
       "5           0.0     0.0     4.0     0.0     0.0     0.0     0.0     0.0   \n",
       "\n",
       "movieId  9       10       ...    161084  161155  161594  161830  161918  \\\n",
       "userId                    ...                                             \n",
       "1           0.0     0.0   ...       0.0     0.0     0.0     0.0     0.0   \n",
       "2           0.0     4.0   ...       0.0     0.0     0.0     0.0     0.0   \n",
       "3           0.0     0.0   ...       0.0     0.0     0.0     0.0     0.0   \n",
       "4           0.0     4.0   ...       0.0     0.0     0.0     0.0     0.0   \n",
       "5           0.0     0.0   ...       0.0     0.0     0.0     0.0     0.0   \n",
       "\n",
       "movieId  161944  162376  162542  162672  163949  \n",
       "userId                                           \n",
       "1           0.0     0.0     0.0     0.0     0.0  \n",
       "2           0.0     0.0     0.0     0.0     0.0  \n",
       "3           0.0     0.0     0.0     0.0     0.0  \n",
       "4           0.0     0.0     0.0     0.0     0.0  \n",
       "5           0.0     0.0     0.0     0.0     0.0  \n",
       "\n",
       "[5 rows x 9066 columns]"
      ]
     },
     "execution_count": 17,
     "metadata": {},
     "output_type": "execute_result"
    }
   ],
   "source": [
    "moviesGenres = movies.copy()\n",
    "\n",
    "#let's keep only 0-1 genres columns\n",
    "colDrop=[]\n",
    "for c in moviesGenres.columns:\n",
    "    if not c.startswith(\"Genre_\"):\n",
    "        colDrop.append(c)\n",
    "        \n",
    "moviesGenres.drop(colDrop, axis = 1, inplace = True)\n",
    "\n",
    "print(moviesGenres.shape)\n",
    "print(moviesGenres.head())\n",
    "\n",
    "user = ratings.drop(\"timestamp\", 1)\n",
    "user = user.pivot(index = 'userId', columns = 'movieId', values = 'rating')\n",
    "user = user.fillna(0)\n",
    "print(user.shape)\n",
    "user.head()"
   ]
  },
  {
   "cell_type": "code",
   "execution_count": 18,
   "metadata": {
    "collapsed": false
   },
   "outputs": [],
   "source": [
    "userGenrePreference = np.zeros((20,len(ratings.userId.unique())))\n",
    "user = user.values\n",
    "moviesGenresVal = moviesGenres.values\n",
    "for i in range(user.shape[0]):\n",
    "    for j in range(moviesGenresVal.shape[1]):\n",
    "        userGenrePreference[j,i] = np.dot(moviesGenresVal[:,j], user[i,:])"
   ]
  },
  {
   "cell_type": "markdown",
   "metadata": {},
   "source": [
    "First user genre preferences, looks fine. User 0 prefers Adventure, Drama and Thriller."
   ]
  },
  {
   "cell_type": "code",
   "execution_count": 19,
   "metadata": {
    "collapsed": false
   },
   "outputs": [
    {
     "name": "stdout",
     "output_type": "stream",
     "text": [
      "[['Genre_Action' 14.0]\n",
      " ['Genre_Adventure' 19.5]\n",
      " ['Genre_Animation' 6.0]\n",
      " ['Genre_Children' 5.0]\n",
      " ['Genre_Comedy' 10.0]\n",
      " ['Genre_Crime' 5.0]\n",
      " ['Genre_Documentary' 0.0]\n",
      " ['Genre_Drama' 18.0]\n",
      " ['Genre_Fantasy' 8.5]\n",
      " ['Genre_Film-Noir' 0.0]\n",
      " ['Genre_Horror' 6.0]\n",
      " ['Genre_IMAX' 0.0]\n",
      " ['Genre_Musical' 3.0]\n",
      " ['Genre_Mystery' 0.0]\n",
      " ['Genre_Romance' 3.5]\n",
      " ['Genre_Sci-Fi' 12.0]\n",
      " ['Genre_Thriller' 17.0]\n",
      " ['Genre_War' 2.0]\n",
      " ['Genre_Western' 3.0]\n",
      " ['Genre_(no genres listed)' 0.0]]\n",
      "      movieId                                           title  \\\n",
      "30         31                          Dangerous Minds (1995)   \n",
      "833      1029                                    Dumbo (1941)   \n",
      "859      1061                                 Sleepers (1996)   \n",
      "906      1129                     Escape from New York (1981)   \n",
      "931      1172  Cinema Paradiso (Nuovo cinema Paradiso) (1989)   \n",
      "1017     1263                         Deer Hunter, The (1978)   \n",
      "1041     1287                                  Ben-Hur (1959)   \n",
      "1047     1293                                   Gandhi (1982)   \n",
      "1083     1339          Dracula (Bram Stoker's Dracula) (1992)   \n",
      "1087     1343                                Cape Fear (1991)   \n",
      "1111     1371            Star Trek: The Motion Picture (1979)   \n",
      "1140     1405          Beavis and Butt-Head Do America (1996)   \n",
      "1515     1953                   French Connection, The (1971)   \n",
      "1665     2105                                     Tron (1982)   \n",
      "1708     2150                  Gods Must Be Crazy, The (1980)   \n",
      "1743     2193                                   Willow (1988)   \n",
      "1815     2294                                     Antz (1998)   \n",
      "1962     2455                                 Fly, The (1986)   \n",
      "2380     2968                             Time Bandits (1981)   \n",
      "2925     3671                          Blazing Saddles (1974)   \n",
      "\n",
      "                                           genres  \n",
      "30                                          Drama  \n",
      "833              Animation|Children|Drama|Musical  \n",
      "859                                      Thriller  \n",
      "906              Action|Adventure|Sci-Fi|Thriller  \n",
      "931                                         Drama  \n",
      "1017                                    Drama|War  \n",
      "1041                       Action|Adventure|Drama  \n",
      "1047                                        Drama  \n",
      "1083              Fantasy|Horror|Romance|Thriller  \n",
      "1087                                     Thriller  \n",
      "1111                             Adventure|Sci-Fi  \n",
      "1140             Adventure|Animation|Comedy|Crime  \n",
      "1515                        Action|Crime|Thriller  \n",
      "1665                      Action|Adventure|Sci-Fi  \n",
      "1708                             Adventure|Comedy  \n",
      "1743                     Action|Adventure|Fantasy  \n",
      "1815  Adventure|Animation|Children|Comedy|Fantasy  \n",
      "1962                 Drama|Horror|Sci-Fi|Thriller  \n",
      "2380              Adventure|Comedy|Fantasy|Sci-Fi  \n",
      "2925                               Comedy|Western  \n"
     ]
    }
   ],
   "source": [
    "def GenrePreferences(usrId):\n",
    "    print(np.column_stack((moviesGenres.columns, userGenrePreference[:, usrId - 1])))\n",
    "    ratedMoviesForUser = ratings[ratings[\"userId\"] == usrId][\"movieId\"]\n",
    "    print(movies[movies[\"movieId\"].isin(ratedMoviesForUser)][[\"movieId\", \"title\", \"genres\"]])\n",
    "\n",
    "GenrePreferences(1)"
   ]
  },
  {
   "cell_type": "markdown",
   "metadata": {},
   "source": [
    "User 331 prefers genres Comedy and Drama."
   ]
  },
  {
   "cell_type": "code",
   "execution_count": 20,
   "metadata": {
    "collapsed": false
   },
   "outputs": [
    {
     "name": "stdout",
     "output_type": "stream",
     "text": [
      "[['Genre_Action' 8.5]\n",
      " ['Genre_Adventure' 15.0]\n",
      " ['Genre_Animation' 9.0]\n",
      " ['Genre_Children' 10.0]\n",
      " ['Genre_Comedy' 45.0]\n",
      " ['Genre_Crime' 25.0]\n",
      " ['Genre_Documentary' 0.0]\n",
      " ['Genre_Drama' 43.0]\n",
      " ['Genre_Fantasy' 10.0]\n",
      " ['Genre_Film-Noir' 0.0]\n",
      " ['Genre_Horror' 7.0]\n",
      " ['Genre_IMAX' 0.0]\n",
      " ['Genre_Musical' 14.0]\n",
      " ['Genre_Mystery' 4.0]\n",
      " ['Genre_Romance' 8.0]\n",
      " ['Genre_Sci-Fi' 17.0]\n",
      " ['Genre_Thriller' 12.5]\n",
      " ['Genre_War' 4.5]\n",
      " ['Genre_Western' 0.0]\n",
      " ['Genre_(no genres listed)' 0.0]]\n",
      "      movieId                                              title  \\\n",
      "23         24                                      Powder (1995)   \n",
      "154       175                                        Kids (1995)   \n",
      "173       196                                     Species (1995)   \n",
      "228       256                                      Junior (1994)   \n",
      "472       527                            Schindler's List (1993)   \n",
      "635       762                                  Striptease (1996)   \n",
      "1567     2005                                Goonies, The (1985)   \n",
      "1695     2137                             Charlotte's Web (1973)   \n",
      "1976     2470                            Crocodile Dundee (1986)   \n",
      "2129     2657              Rocky Horror Picture Show, The (1975)   \n",
      "2174     2717                             Ghostbusters II (1989)   \n",
      "2247     2803                          Pelican Brief, The (1993)   \n",
      "2499     3107                                   Backdraft (1991)   \n",
      "2610     3254                             Wayne's World 2 (1993)   \n",
      "3123     3911                                Best in Show (2000)   \n",
      "3601     4571            Bill & Ted's Excellent Adventure (1989)   \n",
      "3841     4954          Ocean's Eleven (a.k.a. Ocean's 11) (1960)   \n",
      "3847     4963                              Ocean's Eleven (2001)   \n",
      "4231     5618  Spirited Away (Sen to Chihiro no kamikakushi) ...   \n",
      "4418     5991                                     Chicago (2002)   \n",
      "6701    52975                                   Hairspray (2007)   \n",
      "6921    58803                                          21 (2008)   \n",
      "7242    69122                               Hangover, The (2009)   \n",
      "7618    80463                         Social Network, The (2010)   \n",
      "7898    89864                                       50/50 (2011)   \n",
      "\n",
      "                                        genres  \n",
      "23                                Drama|Sci-Fi  \n",
      "154                                      Drama  \n",
      "173                              Horror|Sci-Fi  \n",
      "228                              Comedy|Sci-Fi  \n",
      "472                                  Drama|War  \n",
      "635                               Comedy|Crime  \n",
      "1567  Action|Adventure|Children|Comedy|Fantasy  \n",
      "1695                        Animation|Children  \n",
      "1976                          Adventure|Comedy  \n",
      "2129              Comedy|Horror|Musical|Sci-Fi  \n",
      "2174                     Comedy|Fantasy|Sci-Fi  \n",
      "2247      Crime|Drama|Mystery|Romance|Thriller  \n",
      "2499                              Action|Drama  \n",
      "2610                                    Comedy  \n",
      "3123                                    Comedy  \n",
      "3601                   Adventure|Comedy|Sci-Fi  \n",
      "3841                              Comedy|Crime  \n",
      "3847                            Crime|Thriller  \n",
      "4231               Adventure|Animation|Fantasy  \n",
      "4418                Comedy|Crime|Drama|Musical  \n",
      "6701                      Comedy|Drama|Musical  \n",
      "6921              Crime|Drama|Romance|Thriller  \n",
      "7242                              Comedy|Crime  \n",
      "7618                                     Drama  \n",
      "7898                              Comedy|Drama  \n"
     ]
    }
   ],
   "source": [
    "GenrePreferences(331)"
   ]
  },
  {
   "cell_type": "markdown",
   "metadata": {},
   "source": [
    "Movie recommender for 1. user by genre preferences:"
   ]
  },
  {
   "cell_type": "code",
   "execution_count": 21,
   "metadata": {
    "collapsed": false
   },
   "outputs": [
    {
     "name": "stdout",
     "output_type": "stream",
     "text": [
      "      movieId                                              title  \\\n",
      "0           1                                   Toy Story (1995)   \n",
      "1914     2404                                   Rambo III (1988)   \n",
      "1939     2430                            Mighty Joe Young (1949)   \n",
      "5382     8275                                     College (1927)   \n",
      "6291    40629                           Pride & Prejudice (2005)   \n",
      "6535    48385  Borat: Cultural Learnings of America for Make ...   \n",
      "6759    54745                              Rocket Science (2007)   \n",
      "6867    57038  To the Left of the Father (Lavoura Arcaica) (2...   \n",
      "7927    90746                   Adventures of Tintin, The (2011)   \n",
      "8701   115617                                  Big Hero 6 (2014)   \n",
      "\n",
      "                                           genres  \n",
      "0     Adventure|Animation|Children|Comedy|Fantasy  \n",
      "1914                Action|Adventure|Thriller|War  \n",
      "1939                     Adventure|Children|Drama  \n",
      "5382                                       Comedy  \n",
      "6291                                Drama|Romance  \n",
      "6535                                       Comedy  \n",
      "6759                                 Comedy|Drama  \n",
      "6867                                        Drama  \n",
      "7927                Action|Animation|Mystery|IMAX  \n",
      "8701                      Action|Animation|Comedy  \n"
     ]
    }
   ],
   "source": [
    "from sklearn.metrics.pairwise import cosine_similarity\n",
    "from sklearn.metrics.pairwise import cosine_distances\n",
    "\n",
    "def RecommendByGenrePreference(usrId, numBest):\n",
    "    result2 = userGenrePreference[:, usrId - 1]\n",
    "\n",
    "    similarity = np.vstack((result2, moviesGenresVal))\n",
    "\n",
    "    #calculate cosine distance between user and movies:\n",
    "    similarityResults = cosine_distances(similarity)\n",
    "    userSimilarityResults = similarityResults[0,:]\n",
    "    sortedIndex = np.argsort(userSimilarityResults)\n",
    "    getBest = sortedIndex[:numBest]\n",
    "    recommendedMoviesIds = moviesIds[getBest]\n",
    "    recommendedMovies = movies[movies[\"movieId\"].isin(recommendedMoviesIds)][[\"movieId\", \"title\", \"genres\"]]\n",
    "    print(recommendedMovies)\n",
    "    \n",
    "RecommendByGenrePreference(1, 10)"
   ]
  },
  {
   "cell_type": "markdown",
   "metadata": {},
   "source": [
    "Movie recommender for 331. user by genre preferences:"
   ]
  },
  {
   "cell_type": "code",
   "execution_count": 22,
   "metadata": {
    "collapsed": false
   },
   "outputs": [
    {
     "name": "stdout",
     "output_type": "stream",
     "text": [
      "      movieId                                              title  \\\n",
      "0           1                                   Toy Story (1995)   \n",
      "146       167                               Feast of July (1995)   \n",
      "643       779                          'Til There Was You (1997)   \n",
      "2519     3133                                     Go West (1925)   \n",
      "3937     5087  Get Out Your Handkerchiefs (Préparez vos mouch...   \n",
      "4405     5963                        Children's Hour, The (1961)   \n",
      "4443     6040                              Darkness Falls (2003)   \n",
      "6779    55110                               December Boys (2007)   \n",
      "8032    93838                        The Raid: Redemption (2011)   \n",
      "8265   100304                              Liability, The (2012)   \n",
      "\n",
      "                                           genres  \n",
      "0     Adventure|Animation|Children|Comedy|Fantasy  \n",
      "146                                         Drama  \n",
      "643                                 Drama|Romance  \n",
      "2519                               Comedy|Western  \n",
      "3937                         Comedy|Drama|Romance  \n",
      "4405                                        Drama  \n",
      "4443                              Horror|Thriller  \n",
      "6779                                        Drama  \n",
      "8032                                 Action|Crime  \n",
      "8265                              Action|Thriller  \n"
     ]
    }
   ],
   "source": [
    "RecommendByGenrePreference(331, 10)"
   ]
  },
  {
   "cell_type": "markdown",
   "metadata": {},
   "source": [
    "Genre peferences model isn't something but we can use its outputs as features in later modelling."
   ]
  },
  {
   "cell_type": "markdown",
   "metadata": {},
   "source": [
    "Let's create statistcal features by user ratings (there are more http://pandas.pydata.org/pandas-docs/stable/basics.html):"
   ]
  },
  {
   "cell_type": "code",
   "execution_count": 23,
   "metadata": {
    "collapsed": false
   },
   "outputs": [
    {
     "name": "stdout",
     "output_type": "stream",
     "text": [
      "(671, 9)\n",
      "   userId  UsrRating_sum  UsrRating_mean  UsrRating_count  UsrRating_median  \\\n",
      "0       1           51.0        2.550000               20               2.5   \n",
      "1       2          265.0        3.486842               76               3.0   \n",
      "2       3          182.0        3.568627               51               3.5   \n",
      "3       4          887.0        4.348039              204               5.0   \n",
      "4       5          391.0        3.910000              100               4.0   \n",
      "\n",
      "   UsrRating_min  UsrRating_max  UsrRating_std  UsrRating_var  \n",
      "0            1.0            4.0       0.887041       0.786842  \n",
      "1            1.0            5.0       0.901753       0.813158  \n",
      "2            2.0            5.0       0.741752       0.550196  \n",
      "3            1.0            5.0       0.947616       0.897976  \n",
      "4            1.5            5.0       0.565775       0.320101  \n",
      "(9066, 9)\n",
      "   movieId  MovRating_sum  MovRating_mean  MovRating_count  MovRating_median  \\\n",
      "0        1          956.5        3.872470              247               4.0   \n",
      "1        2          364.0        3.401869              107               3.0   \n",
      "2        3          186.5        3.161017               59               3.0   \n",
      "3        4           31.0        2.384615               13               3.0   \n",
      "4        5          183.0        3.267857               56               3.0   \n",
      "\n",
      "   MovRating_min  MovRating_max  MovRating_std  MovRating_var  \n",
      "0            1.0            5.0       0.958981       0.919646  \n",
      "1            1.5            5.0       0.880714       0.775657  \n",
      "2            0.5            5.0       1.150115       1.322764  \n",
      "3            1.0            3.5       0.938835       0.881410  \n",
      "4            1.0            5.0       0.948512       0.899675  \n"
     ]
    }
   ],
   "source": [
    "f = ['sum','mean','count','median','min','max','std','var']\n",
    "\n",
    "fUsrRating = ['userId']\n",
    "ratingsUser = ratings.loc[:, ['userId','rating']]\n",
    "ratingsUser = ratingsUser.groupby('userId').agg(f).reset_index()\n",
    "fUsrRating.extend([\"UsrRating_\" + i for i in f])\n",
    "ratingsUser.columns = fUsrRating\n",
    "print(ratingsUser.shape)\n",
    "print(ratingsUser.head())\n",
    "\n",
    "fMovRating = ['movieId']\n",
    "ratingsMovie = ratings.loc[:, ['movieId','rating']]\n",
    "ratingsMovie = ratingsMovie.groupby('movieId').agg(f).reset_index()\n",
    "fMovRating.extend([\"MovRating_\" + i for i in f])\n",
    "ratingsMovie.columns = fMovRating\n",
    "print(ratingsMovie.shape)\n",
    "print(ratingsMovie.head())"
   ]
  },
  {
   "cell_type": "markdown",
   "metadata": {},
   "source": [
    "Movie year features. I thought maybe the model would pick up year data and learn whether user rates older or newer movies, but it turned out those features aren't good predictors."
   ]
  },
  {
   "cell_type": "code",
   "execution_count": 24,
   "metadata": {
    "collapsed": false
   },
   "outputs": [
    {
     "data": {
      "text/plain": [
       "'\\nf = [\\'sum\\',\\'mean\\',\\'median\\',\\'min\\',\\'max\\',\\'std\\',\\'var\\'] #we already have count!\\n\\nfUsrMovieYears = [\\'userId\\']\\n\\nusrMovieYears = ratings.loc[:, [\\'userId\\',\\'movieId\\']]\\nmov = movies.loc[:, [\\'movieId\\',\\'Movie_year\\']]\\nusrMovieYears = usrMovieYears.merge(mov, left_on = \\'movieId\\', right_on = \\'movieId\\', how = \\'inner\\')\\nusrMovieYears = usrMovieYears.loc[:, [\\'userId\\',\\'Movie_year\\']]\\n\\n#throw out movies without year!\\nusrMovieYears=usrMovieYears[usrMovieYears[\"Movie_year\"] != 0]\\n\\nusrMovieYears = usrMovieYears.groupby(\\'userId\\').agg(f).reset_index()\\nfUsrMovieYears.extend([\"UsrMovieYears_\" + i for i in f])\\nusrMovieYears.columns = fUsrMovieYears\\nprint(usrMovieYears.shape)\\nprint(usrMovieYears.head())\\n'"
      ]
     },
     "execution_count": 24,
     "metadata": {},
     "output_type": "execute_result"
    }
   ],
   "source": [
    "\"\"\"\n",
    "f = ['sum','mean','median','min','max','std','var'] #we already have count!\n",
    "\n",
    "fUsrMovieYears = ['userId']\n",
    "\n",
    "usrMovieYears = ratings.loc[:, ['userId','movieId']]\n",
    "mov = movies.loc[:, ['movieId','Movie_year']]\n",
    "usrMovieYears = usrMovieYears.merge(mov, left_on = 'movieId', right_on = 'movieId', how = 'inner')\n",
    "usrMovieYears = usrMovieYears.loc[:, ['userId','Movie_year']]\n",
    "\n",
    "#throw out movies without year!\n",
    "usrMovieYears=usrMovieYears[usrMovieYears[\"Movie_year\"] != 0]\n",
    "\n",
    "usrMovieYears = usrMovieYears.groupby('userId').agg(f).reset_index()\n",
    "fUsrMovieYears.extend([\"UsrMovieYears_\" + i for i in f])\n",
    "usrMovieYears.columns = fUsrMovieYears\n",
    "print(usrMovieYears.shape)\n",
    "print(usrMovieYears.head())\n",
    "\"\"\""
   ]
  },
  {
   "cell_type": "markdown",
   "metadata": {},
   "source": [
    "Let's create specific user statistical features:"
   ]
  },
  {
   "cell_type": "code",
   "execution_count": 25,
   "metadata": {
    "collapsed": false
   },
   "outputs": [
    {
     "name": "stderr",
     "output_type": "stream",
     "text": [
      "/usr/local/lib/python3.4/dist-packages/ipykernel/__main__.py:15: PerformanceWarning: dropping on a non-lexsorted multi-index without a level parameter may impact performance.\n"
     ]
    },
    {
     "name": "stdout",
     "output_type": "stream",
     "text": [
      "Index(['userId', 'RatingGenre_Action_sum', 'RatingGenre_Action_mean',\n",
      "       'RatingGenre_Action_count', 'RatingGenre_Action_median',\n",
      "       'RatingGenre_Action_min', 'RatingGenre_Action_max',\n",
      "       'RatingGenre_Action_std', 'RatingGenre_Action_var',\n",
      "       'RatingGenre_Adventure_sum',\n",
      "       ...\n",
      "       'RatingGenre_Western_std', 'RatingGenre_Western_var',\n",
      "       'RatingGenre_(no genres listed)_sum',\n",
      "       'RatingGenre_(no genres listed)_mean',\n",
      "       'RatingGenre_(no genres listed)_count',\n",
      "       'RatingGenre_(no genres listed)_median',\n",
      "       'RatingGenre_(no genres listed)_min',\n",
      "       'RatingGenre_(no genres listed)_max',\n",
      "       'RatingGenre_(no genres listed)_std',\n",
      "       'RatingGenre_(no genres listed)_var'],\n",
      "      dtype='object', length=161)\n",
      "(671, 161)\n",
      "   userId  RatingGenre_Action_sum  RatingGenre_Action_mean  \\\n",
      "0       1                    14.0                 2.800000   \n",
      "1       2                    63.0                 3.315789   \n",
      "2       3                    55.5                 3.468750   \n",
      "3       4                   265.0                 4.274194   \n",
      "4       5                    48.0                 4.000000   \n",
      "\n",
      "   RatingGenre_Action_count  RatingGenre_Action_median  \\\n",
      "0                         5                       2.00   \n",
      "1                        19                       3.00   \n",
      "2                        16                       3.25   \n",
      "3                        62                       5.00   \n",
      "4                        12                       4.00   \n",
      "\n",
      "   RatingGenre_Action_min  RatingGenre_Action_max  RatingGenre_Action_std  \\\n",
      "0                     2.0                     4.0                1.095445   \n",
      "1                     2.0                     5.0                0.885226   \n",
      "2                     2.5                     5.0                0.763080   \n",
      "3                     1.0                     5.0                0.943821   \n",
      "4                     3.5                     4.5                0.301511   \n",
      "\n",
      "   RatingGenre_Action_var  RatingGenre_Adventure_sum  \\\n",
      "0                1.200000                       19.5   \n",
      "1                0.783626                       45.0   \n",
      "2                0.582292                       33.0   \n",
      "3                0.890799                      269.0   \n",
      "4                0.090909                       76.5   \n",
      "\n",
      "                  ...                  RatingGenre_Western_std  \\\n",
      "0                 ...                                  0.00000   \n",
      "1                 ...                                  0.00000   \n",
      "2                 ...                                  0.00000   \n",
      "3                 ...                                  0.00000   \n",
      "4                 ...                                  2.12132   \n",
      "\n",
      "   RatingGenre_Western_var  RatingGenre_(no genres listed)_sum  \\\n",
      "0                      0.0                                10.0   \n",
      "1                      0.0                                 4.0   \n",
      "2                      0.0                                 1.5   \n",
      "3                      0.0                                 5.0   \n",
      "4                      4.5                                 4.5   \n",
      "\n",
      "   RatingGenre_(no genres listed)_mean  RatingGenre_(no genres listed)_count  \\\n",
      "0                                  5.0                                   2.0   \n",
      "1                                  4.0                                   1.0   \n",
      "2                                  1.5                                   1.0   \n",
      "3                                  5.0                                   1.0   \n",
      "4                                  4.5                                   1.0   \n",
      "\n",
      "   RatingGenre_(no genres listed)_median  RatingGenre_(no genres listed)_min  \\\n",
      "0                                    5.0                                 5.0   \n",
      "1                                    4.0                                 4.0   \n",
      "2                                    1.5                                 1.5   \n",
      "3                                    5.0                                 5.0   \n",
      "4                                    4.5                                 4.5   \n",
      "\n",
      "   RatingGenre_(no genres listed)_max  RatingGenre_(no genres listed)_std  \\\n",
      "0                                 5.0                                 0.0   \n",
      "1                                 4.0                                 0.0   \n",
      "2                                 1.5                                 0.0   \n",
      "3                                 5.0                                 0.0   \n",
      "4                                 4.5                                 0.0   \n",
      "\n",
      "   RatingGenre_(no genres listed)_var  \n",
      "0                                 0.0  \n",
      "1                                 0.0  \n",
      "2                                 0.0  \n",
      "3                                 0.0  \n",
      "4                                 0.0  \n",
      "\n",
      "[5 rows x 161 columns]\n"
     ]
    }
   ],
   "source": [
    "f = ['sum','mean','count','median','min','max','std','var']\n",
    "\n",
    "ratingsTemp = movies.copy()\n",
    "ratingsTemp.drop([\"genres\",\"Movie_year\"], inplace = True, axis = 1)\n",
    "ratingsTemp = ratingsTemp.merge(ratings, left_on = 'movieId', right_on = 'movieId', how = 'inner')\n",
    "\n",
    "for col in genresCols:\n",
    "    ratingsTempT = ratingsTemp[ratingsTemp[col] == 1]\n",
    "    ratingsTempT = ratingsTempT.loc[:,['userId', 'rating']]\n",
    "    ratingsTempT = ratingsTempT.groupby(['userId'], as_index = False).agg(f).reset_index()\n",
    "    if col == \"Genre_Action\":\n",
    "        ratingsTempT.columns = ['userId'] + [\"Rating\" + col + '_' + i for i in f]\n",
    "        ratingsUserGenre = ratingsTempT\n",
    "    else:\n",
    "        ratingsTempT.drop([\"userId\"], inplace = True, axis = 1)\n",
    "        ratingsTempT.columns = [\"Rating\" + col + '_' + i for i in f]\n",
    "        ratingsUserGenre = pd.concat([ratingsUserGenre, ratingsTempT], axis = 1, join_axes = [ratingsUserGenre.index])\n",
    "\n",
    "ratingsUserGenre = ratingsUserGenre.fillna(0)\n",
    "print(ratingsUserGenre.columns)\n",
    "print(ratingsUserGenre.shape)\n",
    "print(ratingsUserGenre.head())"
   ]
  },
  {
   "cell_type": "markdown",
   "metadata": {},
   "source": [
    "Our prediction dataset looks like:"
   ]
  },
  {
   "cell_type": "code",
   "execution_count": 26,
   "metadata": {
    "collapsed": false
   },
   "outputs": [
    {
     "name": "stdout",
     "output_type": "stream",
     "text": [
      "(100004, 219)\n",
      "Index(['Movie_year', 'Genre_Action', 'Genre_Adventure', 'Genre_Animation',\n",
      "       'Genre_Children', 'Genre_Comedy', 'Genre_Crime', 'Genre_Documentary',\n",
      "       'Genre_Drama', 'Genre_Fantasy',\n",
      "       ...\n",
      "       'UsrGenre_Horror_pref', 'UsrGenre_IMAX_pref', 'UsrGenre_Musical_pref',\n",
      "       'UsrGenre_Mystery_pref', 'UsrGenre_Romance_pref',\n",
      "       'UsrGenre_Sci-Fi_pref', 'UsrGenre_Thriller_pref', 'UsrGenre_War_pref',\n",
      "       'UsrGenre_Western_pref', 'UsrGenre_(no genres listed)_pref'],\n",
      "      dtype='object', length=219)\n",
      "   Movie_year  Genre_Action  Genre_Adventure  Genre_Animation  Genre_Children  \\\n",
      "0        1995             0                1                1               1   \n",
      "1        1995             0                1                1               1   \n",
      "2        1995             0                1                1               1   \n",
      "3        1995             0                1                1               1   \n",
      "4        1995             0                1                1               1   \n",
      "\n",
      "   Genre_Comedy  Genre_Crime  Genre_Documentary  Genre_Drama  Genre_Fantasy  \\\n",
      "0             1            0                  0            0              1   \n",
      "1             1            0                  0            0              1   \n",
      "2             1            0                  0            0              1   \n",
      "3             1            0                  0            0              1   \n",
      "4             1            0                  0            0              1   \n",
      "\n",
      "                 ...                 UsrGenre_Horror_pref  UsrGenre_IMAX_pref  \\\n",
      "0                ...                                  6.0                 0.0   \n",
      "1                ...                                 14.0                 8.0   \n",
      "2                ...                                 13.5                11.5   \n",
      "3                ...                                 71.0                 5.0   \n",
      "4                ...                                 15.5                20.0   \n",
      "\n",
      "   UsrGenre_Musical_pref  UsrGenre_Mystery_pref  UsrGenre_Romance_pref  \\\n",
      "0                    3.0                    0.0                    3.5   \n",
      "1                   15.0                   16.0                   79.0   \n",
      "2                    5.0                    7.5                   36.5   \n",
      "3                  116.0                   45.0                  126.0   \n",
      "4                   42.5                   20.0                  151.0   \n",
      "\n",
      "   UsrGenre_Sci-Fi_pref  UsrGenre_Thriller_pref  UsrGenre_War_pref  \\\n",
      "0                  12.0                    17.0                2.0   \n",
      "1                  19.0                    70.0               19.0   \n",
      "2                  22.0                    39.0               25.0   \n",
      "3                 183.0                   177.0               19.0   \n",
      "4                  28.0                    43.5               16.0   \n",
      "\n",
      "   UsrGenre_Western_pref  UsrGenre_(no genres listed)_pref  \n",
      "0                    3.0                               0.0  \n",
      "1                   10.0                               0.0  \n",
      "2                    4.0                               0.0  \n",
      "3                    3.0                               0.0  \n",
      "4                    0.0                               0.0  \n",
      "\n",
      "[5 rows x 219 columns]\n"
     ]
    }
   ],
   "source": [
    "trainX = movies.copy()\n",
    "trainX = trainX.merge(ratings, left_on = 'movieId', right_on = 'movieId', how = 'inner')\n",
    "trainX = trainX.merge(ratingsUser, left_on = 'userId', right_on = 'userId', how = 'left')\n",
    "trainX = trainX.merge(ratingsMovie, left_on = 'movieId', right_on = 'movieId', how = 'left')\n",
    "trainX = trainX.merge(ratingsUserGenre, left_on = 'userId', right_on = 'userId', how = 'left')\n",
    "\n",
    "genresPrefCols = [\"Usr\" + s + \"_pref\" for s in genresCols]\n",
    "userGenrePreferencePd = pd.DataFrame(index = range(len(userGenrePreference.T)), \n",
    "   columns = genresPrefCols, data = userGenrePreference.T)\n",
    "\n",
    "trainX = pd.concat([trainX, userGenrePreferencePd], axis = 1, join_axes = [trainX.index])\n",
    "#NA's appeared!\n",
    "trainX = trainX.fillna(0)\n",
    "\n",
    "trainX.drop([\"title\",\"genres\",\"timestamp\",\"movieId\",\"userId\"], inplace = True, axis = 1)\n",
    "\n",
    "print(trainX.shape)\n",
    "print(trainX.columns)\n",
    "print(trainX.head())"
   ]
  },
  {
   "cell_type": "markdown",
   "metadata": {},
   "source": [
    "## Training and evaluation"
   ]
  },
  {
   "cell_type": "markdown",
   "metadata": {},
   "source": [
    "We will create regression predicting user ratings. Testing on 20% holdout dataset. Most accurate evaluation would be to take (for example) 20% rated movies of every user for holdout.\n",
    "Of course, we use xgboost."
   ]
  },
  {
   "cell_type": "code",
   "execution_count": 27,
   "metadata": {
    "collapsed": false
   },
   "outputs": [
    {
     "name": "stdout",
     "output_type": "stream",
     "text": [
      "0.8119430296402993\n"
     ]
    }
   ],
   "source": [
    "from sklearn.cross_validation import train_test_split\n",
    "from sklearn.metrics import mean_squared_error\n",
    "import sklearn.feature_selection as fs\n",
    "from math import sqrt\n",
    "\n",
    "train = trainX.copy()\n",
    "y = train[\"rating\"].values\n",
    "train.drop([\"rating\"], inplace = True, axis = 1)\n",
    "train = train.values\n",
    "\n",
    "kBest = 150\n",
    "selectKBest = fs.SelectKBest(fs.f_regression, k = kBest)\n",
    "selectKBest.fit(train, y)\n",
    "train = train[:, selectKBest.get_support()]\n",
    "\n",
    "testSize = 0.2\n",
    "seed = 123\n",
    "\n",
    "tr_id, te_id = train_test_split(range(len(y)), test_size = testSize, random_state = seed)\n",
    "\n",
    "tr = train[tr_id]\n",
    "te = train[te_id]\n",
    "tr_l = y[tr_id]\n",
    "te_l = y[te_id]\n",
    "\n",
    "import xgboost as xgb\n",
    "\n",
    "num_round = 100\n",
    "param = {}\n",
    "param['objective'] = 'reg:linear'\n",
    "param['eta'] = 0.06\n",
    "param['max_depth'] = 20\n",
    "param['eval_metric'] = 'rmse'\n",
    "param['silent'] = 1\n",
    "param['subsample'] = 0.9\n",
    "\n",
    "xgtrain = xgb.DMatrix(tr, label=tr_l)\n",
    "xgtest = xgb.DMatrix(te)\n",
    "model = xgb.train(param, xgtrain, num_round)\n",
    "preds = model.predict(xgtest)\n",
    "\n",
    "#preds[preds<0.5] = 0.5\n",
    "#preds[preds>5] = 5\n",
    "rms = sqrt(mean_squared_error(te_l, preds))\n",
    "print(rms)\n",
    "#0.8119430296402993"
   ]
  },
  {
   "cell_type": "markdown",
   "metadata": {},
   "source": [
    "Train the model again but on whole dataset for later prediction."
   ]
  },
  {
   "cell_type": "code",
   "execution_count": 28,
   "metadata": {
    "collapsed": true
   },
   "outputs": [],
   "source": [
    "xgtrain = xgb.DMatrix(train, label = y)\n",
    "model = xgb.train(param, xgtrain, num_round)"
   ]
  },
  {
   "cell_type": "markdown",
   "metadata": {},
   "source": [
    "## Testing"
   ]
  },
  {
   "cell_type": "markdown",
   "metadata": {},
   "source": [
    "Firstly, for every user we have to find movies he didn't rate. Movies count is 9066. If per user we take all movies he didn't rate we would get very very big dataset for prediction. We can reduce it by removing genres user doesn't prefer. "
   ]
  },
  {
   "cell_type": "code",
   "execution_count": 29,
   "metadata": {
    "collapsed": false
   },
   "outputs": [
    {
     "name": "stdout",
     "output_type": "stream",
     "text": [
      "(3733838, 218)\n",
      "Index(['Movie_year', 'Genre_Action', 'Genre_Adventure', 'Genre_Animation',\n",
      "       'Genre_Children', 'Genre_Comedy', 'Genre_Crime', 'Genre_Documentary',\n",
      "       'Genre_Drama', 'Genre_Fantasy',\n",
      "       ...\n",
      "       'UsrGenre_Horror_pref', 'UsrGenre_IMAX_pref', 'UsrGenre_Musical_pref',\n",
      "       'UsrGenre_Mystery_pref', 'UsrGenre_Romance_pref',\n",
      "       'UsrGenre_Sci-Fi_pref', 'UsrGenre_Thriller_pref', 'UsrGenre_War_pref',\n",
      "       'UsrGenre_Western_pref', 'UsrGenre_(no genres listed)_pref'],\n",
      "      dtype='object', length=218)\n",
      "   Movie_year  Genre_Action  Genre_Adventure  Genre_Animation  Genre_Children  \\\n",
      "0        1995             0                0                0               0   \n",
      "1        1995             0                0                0               0   \n",
      "2        1995             0                0                0               0   \n",
      "3        1995             0                0                0               0   \n",
      "4        1995             0                0                0               0   \n",
      "\n",
      "   Genre_Comedy  Genre_Crime  Genre_Documentary  Genre_Drama  Genre_Fantasy  \\\n",
      "0             1            0                  0            0              0   \n",
      "1             1            0                  0            0              0   \n",
      "2             1            0                  0            0              0   \n",
      "3             1            0                  0            0              0   \n",
      "4             1            0                  0            0              0   \n",
      "\n",
      "                 ...                 UsrGenre_Horror_pref  UsrGenre_IMAX_pref  \\\n",
      "0                ...                                  8.0                 4.0   \n",
      "1                ...                                  8.0                 4.0   \n",
      "2                ...                                  8.0                 4.0   \n",
      "3                ...                                  8.0                 4.0   \n",
      "4                ...                                  8.0                 4.0   \n",
      "\n",
      "   UsrGenre_Musical_pref  UsrGenre_Mystery_pref  UsrGenre_Romance_pref  \\\n",
      "0                   34.0                   17.0                   89.0   \n",
      "1                   34.0                   17.0                   89.0   \n",
      "2                   34.0                   17.0                   89.0   \n",
      "3                   34.0                   17.0                   89.0   \n",
      "4                   34.0                   17.0                   89.0   \n",
      "\n",
      "   UsrGenre_Sci-Fi_pref  UsrGenre_Thriller_pref  UsrGenre_War_pref  \\\n",
      "0                  48.5                    77.0               27.0   \n",
      "1                  48.5                    77.0               27.0   \n",
      "2                  48.5                    77.0               27.0   \n",
      "3                  48.5                    77.0               27.0   \n",
      "4                  48.5                    77.0               27.0   \n",
      "\n",
      "   UsrGenre_Western_pref  UsrGenre_(no genres listed)_pref  \n",
      "0                   17.5                               0.0  \n",
      "1                   17.5                               0.0  \n",
      "2                   17.5                               0.0  \n",
      "3                   17.5                               0.0  \n",
      "4                   17.5                               0.0  \n",
      "\n",
      "[5 rows x 218 columns]\n"
     ]
    }
   ],
   "source": [
    "#we look (u,m) pairs u being user and m movie user did not rate\n",
    "userIds = ratings.userId.unique()\n",
    "for usrId in userIds:\n",
    "    #ad-hoc\n",
    "    minGenrePreference = np.median(userGenrePreference[:, usrId - 1])\n",
    "    userUnfavoredGenres = [g for i, g in enumerate(genresCols) if userGenrePreference[i, usrId - 1] <= minGenrePreference]\n",
    "    moviesPreferred = movies.copy()\n",
    "    for g in userUnfavoredGenres:\n",
    "        moviesPreferred = moviesPreferred[moviesPreferred[g] != 1]\n",
    "    userUnratedMovies = list(set(moviesPreferred.movieId.values) - set(ratings[ratings[\"userId\"] == usrId][\"movieId\"]))\n",
    "    userUnratedMovies = np.asarray(userUnratedMovies)\n",
    "\n",
    "    u = [usrId] * len(userUnratedMovies)\n",
    "    u = np.asarray(u)\n",
    "\n",
    "    if usrId == 1:\n",
    "        usermovie = np.vstack((u, userUnratedMovies)).T\n",
    "        usermovies = usermovie\n",
    "    else:\n",
    "        usermovie=np.vstack((u,userUnratedMovies)).T\n",
    "        usermovies=np.vstack((usermovies,usermovie))\n",
    "\n",
    "testX = pd.DataFrame(index = range(len(usermovies)), columns = [\"userId\",\"movieId\"], data = usermovies)\n",
    "testX = testX.merge(movies, left_on = 'movieId', right_on = 'movieId', how = 'inner')\n",
    "testX = testX.merge(ratingsUser, left_on = 'userId', right_on = 'userId', how = 'left')\n",
    "testX = testX.merge(ratingsMovie, left_on = 'movieId', right_on = 'movieId', how = 'left')\n",
    "testX = testX.merge(ratingsUserGenre, left_on = 'userId', right_on = 'userId', how = 'left')\n",
    "\n",
    "testUserIds = testX.userId\n",
    "\n",
    "genrePreferencesUser = pd.DataFrame(index = range(testX.shape[0]), columns = genresPrefCols, \n",
    "    data = [userGenrePreferencePd.loc[usrId - 1, :].values] * testX.shape[0])\n",
    "testX = pd.concat([testX, genrePreferencesUser], axis = 1, join_axes = [testX.index])\n",
    "testX = testX.fillna(0)\n",
    "\n",
    "testXMovieIds = testX.movieId\n",
    "\n",
    "testX.drop([\"title\",\"genres\",\"movieId\",\"userId\"], inplace=True, axis=1)\n",
    "\n",
    "print(testX.shape)\n",
    "print(testX.columns)\n",
    "print(testX.head())"
   ]
  },
  {
   "cell_type": "markdown",
   "metadata": {},
   "source": [
    "Prediction:"
   ]
  },
  {
   "cell_type": "code",
   "execution_count": 30,
   "metadata": {
    "collapsed": true
   },
   "outputs": [],
   "source": [
    "xgtest = testX.values\n",
    "xgtest = xgtest[:, selectKBest.get_support()]\n",
    "xgtest = xgb.DMatrix(xgtest)\n",
    "preds = model.predict(xgtest)"
   ]
  },
  {
   "cell_type": "markdown",
   "metadata": {},
   "source": [
    "First n recommended movies for user:"
   ]
  },
  {
   "cell_type": "code",
   "execution_count": 31,
   "metadata": {
    "collapsed": false
   },
   "outputs": [],
   "source": [
    "def RecommendMovies(userId, bestN):\n",
    "    userIdx = testUserIds[testUserIds == userId].index\n",
    "    userPreds = preds[userIdx]\n",
    "    sortIndex = np.argsort(userPreds)[::-1][:len(userPreds)]\n",
    "    userIdxSortedBest = userIdx[sortIndex]\n",
    "    best = testXMovieIds.loc[userIdxSortedBest]\n",
    "    recommendedMovies = movies[movies[\"movieId\"].isin(list(best)[:bestN])][[\"movieId\",\"title\",\"genres\"]]\n",
    "    print(recommendedMovies)"
   ]
  },
  {
   "cell_type": "markdown",
   "metadata": {},
   "source": [
    "Genre preferences and rated movies for 1. user / recommended movies"
   ]
  },
  {
   "cell_type": "code",
   "execution_count": 32,
   "metadata": {
    "collapsed": false
   },
   "outputs": [
    {
     "name": "stdout",
     "output_type": "stream",
     "text": [
      "[['Genre_Action' 14.0]\n",
      " ['Genre_Adventure' 19.5]\n",
      " ['Genre_Animation' 6.0]\n",
      " ['Genre_Children' 5.0]\n",
      " ['Genre_Comedy' 10.0]\n",
      " ['Genre_Crime' 5.0]\n",
      " ['Genre_Documentary' 0.0]\n",
      " ['Genre_Drama' 18.0]\n",
      " ['Genre_Fantasy' 8.5]\n",
      " ['Genre_Film-Noir' 0.0]\n",
      " ['Genre_Horror' 6.0]\n",
      " ['Genre_IMAX' 0.0]\n",
      " ['Genre_Musical' 3.0]\n",
      " ['Genre_Mystery' 0.0]\n",
      " ['Genre_Romance' 3.5]\n",
      " ['Genre_Sci-Fi' 12.0]\n",
      " ['Genre_Thriller' 17.0]\n",
      " ['Genre_War' 2.0]\n",
      " ['Genre_Western' 3.0]\n",
      " ['Genre_(no genres listed)' 0.0]]\n",
      "      movieId                                           title  \\\n",
      "30         31                          Dangerous Minds (1995)   \n",
      "833      1029                                    Dumbo (1941)   \n",
      "859      1061                                 Sleepers (1996)   \n",
      "906      1129                     Escape from New York (1981)   \n",
      "931      1172  Cinema Paradiso (Nuovo cinema Paradiso) (1989)   \n",
      "1017     1263                         Deer Hunter, The (1978)   \n",
      "1041     1287                                  Ben-Hur (1959)   \n",
      "1047     1293                                   Gandhi (1982)   \n",
      "1083     1339          Dracula (Bram Stoker's Dracula) (1992)   \n",
      "1087     1343                                Cape Fear (1991)   \n",
      "1111     1371            Star Trek: The Motion Picture (1979)   \n",
      "1140     1405          Beavis and Butt-Head Do America (1996)   \n",
      "1515     1953                   French Connection, The (1971)   \n",
      "1665     2105                                     Tron (1982)   \n",
      "1708     2150                  Gods Must Be Crazy, The (1980)   \n",
      "1743     2193                                   Willow (1988)   \n",
      "1815     2294                                     Antz (1998)   \n",
      "1962     2455                                 Fly, The (1986)   \n",
      "2380     2968                             Time Bandits (1981)   \n",
      "2925     3671                          Blazing Saddles (1974)   \n",
      "\n",
      "                                           genres  \n",
      "30                                          Drama  \n",
      "833              Animation|Children|Drama|Musical  \n",
      "859                                      Thriller  \n",
      "906              Action|Adventure|Sci-Fi|Thriller  \n",
      "931                                         Drama  \n",
      "1017                                    Drama|War  \n",
      "1041                       Action|Adventure|Drama  \n",
      "1047                                        Drama  \n",
      "1083              Fantasy|Horror|Romance|Thriller  \n",
      "1087                                     Thriller  \n",
      "1111                             Adventure|Sci-Fi  \n",
      "1140             Adventure|Animation|Comedy|Crime  \n",
      "1515                        Action|Crime|Thriller  \n",
      "1665                      Action|Adventure|Sci-Fi  \n",
      "1708                             Adventure|Comedy  \n",
      "1743                     Action|Adventure|Fantasy  \n",
      "1815  Adventure|Animation|Children|Comedy|Fantasy  \n",
      "1962                 Drama|Horror|Sci-Fi|Thriller  \n",
      "2380              Adventure|Comedy|Fantasy|Sci-Fi  \n",
      "2925                               Comedy|Western  \n",
      "      movieId                                              title  \\\n",
      "2574     3202  Even Dwarfs Started Small (Auch Zwerge haben k...   \n",
      "2585     3216             Vampyros Lesbos (Vampiras, Las) (1971)   \n",
      "3068     3837                                 Phantasm II (1988)   \n",
      "3597     4567                American Ninja 3: Blood Hunt (1989)   \n",
      "3638     4632                                Package, The (1989)   \n",
      "3830     4930                           Funeral in Berlin (1966)   \n",
      "4023     5244                             Shogun Assassin (1980)   \n",
      "5057     7208                     Dr. Jekyll and Mr. Hyde (1941)   \n",
      "5095     7302                        Thief of Bagdad, The (1924)   \n",
      "7568    78903              State of Siege (État de siège) (1972)   \n",
      "\n",
      "                                     genres  \n",
      "2574                           Drama|Horror  \n",
      "2585                Fantasy|Horror|Thriller  \n",
      "3068  Action|Fantasy|Horror|Sci-Fi|Thriller  \n",
      "3597                       Action|Adventure  \n",
      "3638                        Action|Thriller  \n",
      "3830                  Action|Drama|Thriller  \n",
      "4023                       Action|Adventure  \n",
      "5057                           Drama|Horror  \n",
      "5095               Action|Adventure|Fantasy  \n",
      "7568                         Drama|Thriller  \n"
     ]
    }
   ],
   "source": [
    "GenrePreferences(1)\n",
    "RecommendMovies(1, 10)"
   ]
  },
  {
   "cell_type": "markdown",
   "metadata": {},
   "source": [
    "Genre preferences and rated movies for 2. user / recommended movies"
   ]
  },
  {
   "cell_type": "code",
   "execution_count": 33,
   "metadata": {
    "collapsed": false
   },
   "outputs": [
    {
     "name": "stdout",
     "output_type": "stream",
     "text": [
      "[['Genre_Action' 63.0]\n",
      " ['Genre_Adventure' 45.0]\n",
      " ['Genre_Animation' 22.0]\n",
      " ['Genre_Children' 28.0]\n",
      " ['Genre_Comedy' 99.0]\n",
      " ['Genre_Crime' 33.0]\n",
      " ['Genre_Documentary' 0.0]\n",
      " ['Genre_Drama' 141.0]\n",
      " ['Genre_Fantasy' 34.0]\n",
      " ['Genre_Film-Noir' 0.0]\n",
      " ['Genre_Horror' 14.0]\n",
      " ['Genre_IMAX' 8.0]\n",
      " ['Genre_Musical' 15.0]\n",
      " ['Genre_Mystery' 16.0]\n",
      " ['Genre_Romance' 79.0]\n",
      " ['Genre_Sci-Fi' 19.0]\n",
      " ['Genre_Thriller' 70.0]\n",
      " ['Genre_War' 19.0]\n",
      " ['Genre_Western' 10.0]\n",
      " ['Genre_(no genres listed)' 0.0]]\n",
      "     movieId                                              title  \\\n",
      "9         10                                   GoldenEye (1995)   \n",
      "16        17                       Sense and Sensibility (1995)   \n",
      "37        39                                    Clueless (1995)   \n",
      "45        47                        Seven (a.k.a. Se7en) (1995)   \n",
      "48        50                         Usual Suspects, The (1995)   \n",
      "49        52                            Mighty Aphrodite (1995)   \n",
      "58        62                          Mr. Holland's Opus (1995)   \n",
      "100      110                                  Braveheart (1995)   \n",
      "123      144                      Brothers McMullen, The (1995)   \n",
      "129      150                                   Apollo 13 (1995)   \n",
      "132      153                              Batman Forever (1995)   \n",
      "140      161                                Crimson Tide (1995)   \n",
      "144      165                  Die Hard: With a Vengeance (1995)   \n",
      "147      168                                First Knight (1995)   \n",
      "163      185                                    Net, The (1995)   \n",
      "164      186                                 Nine Months (1995)   \n",
      "184      208                                  Waterworld (1995)   \n",
      "195      222                           Circle of Friends (1995)   \n",
      "196      223                                      Clerks (1994)   \n",
      "198      225                                  Disclosure (1994)   \n",
      "207      235                                     Ed Wood (1994)   \n",
      "220      248                                  Houseguest (1994)   \n",
      "225      253  Interview with the Vampire: The Vampire Chroni...   \n",
      "233      261                                Little Women (1994)   \n",
      "237      265  Like Water for Chocolate (Como agua para choco...   \n",
      "238      266                         Legends of the Fall (1994)   \n",
      "244      272                 Madness of King George, The (1994)   \n",
      "245      273  Mary Shelley's Frankenstein (Frankenstein) (1994)   \n",
      "262      292                                    Outbreak (1995)   \n",
      "266      296                                Pulp Fiction (1994)   \n",
      "..       ...                                                ...   \n",
      "357      405  Highlander III: The Sorcerer (a.k.a. Highlande...   \n",
      "361      410                        Addams Family Values (1993)   \n",
      "403      454                                   Firm, The (1993)   \n",
      "406      457                               Fugitive, The (1993)   \n",
      "416      468  Englishman Who Went Up a Hill But Came Down a ...   \n",
      "422      474                         In the Line of Fire (1993)   \n",
      "427      480                               Jurassic Park (1993)   \n",
      "432      485                            Last Action Hero (1993)   \n",
      "444      497                      Much Ado About Nothing (1993)   \n",
      "447      500                              Mrs. Doubtfire (1993)   \n",
      "454      508                                Philadelphia (1993)   \n",
      "455      509                                  Piano, The (1993)   \n",
      "461      515                     Remains of the Day, The (1993)   \n",
      "472      527                            Schindler's List (1993)   \n",
      "481      537                                      Sirens (1994)   \n",
      "483      539                        Sleepless in Seattle (1993)   \n",
      "493      550                                   Threesome (1994)   \n",
      "494      551             Nightmare Before Christmas, The (1993)   \n",
      "495      552                       Three Musketeers, The (1993)   \n",
      "518      585                      Brady Bunch Movie, The (1995)   \n",
      "519      586                                  Home Alone (1990)   \n",
      "520      587                                       Ghost (1990)   \n",
      "521      588                                     Aladdin (1992)   \n",
      "522      589                  Terminator 2: Judgment Day (1991)   \n",
      "523      590                          Dances with Wolves (1990)   \n",
      "524      592                                      Batman (1989)   \n",
      "525      593                   Silence of the Lambs, The (1991)   \n",
      "543      616                             Aristocats, The (1970)   \n",
      "567      661                   James and the Giant Peach (1996)   \n",
      "607      720  Wallace & Gromit: The Best of Aardman Animatio...   \n",
      "\n",
      "                                           genres  \n",
      "9                       Action|Adventure|Thriller  \n",
      "16                                  Drama|Romance  \n",
      "37                                 Comedy|Romance  \n",
      "45                               Mystery|Thriller  \n",
      "48                         Crime|Mystery|Thriller  \n",
      "49                           Comedy|Drama|Romance  \n",
      "58                                          Drama  \n",
      "100                              Action|Drama|War  \n",
      "123                                        Comedy  \n",
      "129                          Adventure|Drama|IMAX  \n",
      "132                 Action|Adventure|Comedy|Crime  \n",
      "140                            Drama|Thriller|War  \n",
      "144                         Action|Crime|Thriller  \n",
      "147                          Action|Drama|Romance  \n",
      "163                         Action|Crime|Thriller  \n",
      "164                                Comedy|Romance  \n",
      "184                       Action|Adventure|Sci-Fi  \n",
      "195                                 Drama|Romance  \n",
      "196                                        Comedy  \n",
      "198                                Drama|Thriller  \n",
      "207                                  Comedy|Drama  \n",
      "220                                        Comedy  \n",
      "225                                  Drama|Horror  \n",
      "233                                         Drama  \n",
      "237                         Drama|Fantasy|Romance  \n",
      "238                     Drama|Romance|War|Western  \n",
      "244                                  Comedy|Drama  \n",
      "245                           Drama|Horror|Sci-Fi  \n",
      "262                  Action|Drama|Sci-Fi|Thriller  \n",
      "266                   Comedy|Crime|Drama|Thriller  \n",
      "..                                            ...  \n",
      "357                                Action|Fantasy  \n",
      "361                       Children|Comedy|Fantasy  \n",
      "403                                Drama|Thriller  \n",
      "406                                      Thriller  \n",
      "416                                Comedy|Romance  \n",
      "422                               Action|Thriller  \n",
      "427              Action|Adventure|Sci-Fi|Thriller  \n",
      "432               Action|Adventure|Comedy|Fantasy  \n",
      "444                                Comedy|Romance  \n",
      "447                                  Comedy|Drama  \n",
      "454                                         Drama  \n",
      "455                                 Drama|Romance  \n",
      "461                                 Drama|Romance  \n",
      "472                                     Drama|War  \n",
      "481                                         Drama  \n",
      "483                          Comedy|Drama|Romance  \n",
      "493                                Comedy|Romance  \n",
      "494            Animation|Children|Fantasy|Musical  \n",
      "495               Action|Adventure|Comedy|Romance  \n",
      "518                                        Comedy  \n",
      "519                               Children|Comedy  \n",
      "520         Comedy|Drama|Fantasy|Romance|Thriller  \n",
      "521   Adventure|Animation|Children|Comedy|Musical  \n",
      "522                                 Action|Sci-Fi  \n",
      "523                       Adventure|Drama|Western  \n",
      "524                         Action|Crime|Thriller  \n",
      "525                         Crime|Horror|Thriller  \n",
      "543                            Animation|Children  \n",
      "567  Adventure|Animation|Children|Fantasy|Musical  \n",
      "607                    Adventure|Animation|Comedy  \n",
      "\n",
      "[76 rows x 3 columns]\n",
      "      movieId                                              title  \\\n",
      "50         53                                    Lamerica (1994)   \n",
      "269       301                  Picture Bride (Bijo photo) (1994)   \n",
      "277       309  Red Firecracker, Green Firecracker (Pao Da Shu...   \n",
      "636       764                                       Heavy (1995)   \n",
      "2998     3746      Butterfly (La lengua de las mariposas) (1999)   \n",
      "4331     5828                                   Blackrock (1997)   \n",
      "5370     8240                           Totally F***ed Up (1993)   \n",
      "5823    26578      Sacrifice, The (Offret - Sacraficatio) (1986)   \n",
      "6953    59447                                     Fiorile (1993)   \n",
      "7270    69761  Through the Olive Trees (Zire darakhatan zeyto...   \n",
      "\n",
      "               genres  \n",
      "50    Adventure|Drama  \n",
      "269     Drama|Romance  \n",
      "277             Drama  \n",
      "636     Drama|Romance  \n",
      "2998            Drama  \n",
      "4331   Drama|Thriller  \n",
      "5370            Drama  \n",
      "5823            Drama  \n",
      "6953            Drama  \n",
      "7270            Drama  \n"
     ]
    }
   ],
   "source": [
    "GenrePreferences(2)\n",
    "RecommendMovies(2, 10)"
   ]
  },
  {
   "cell_type": "markdown",
   "metadata": {},
   "source": [
    "Genre preferences and rated movies for 444. user / recommended movies"
   ]
  },
  {
   "cell_type": "code",
   "execution_count": 34,
   "metadata": {
    "collapsed": false
   },
   "outputs": [
    {
     "name": "stdout",
     "output_type": "stream",
     "text": [
      "[['Genre_Action' 5.0]\n",
      " ['Genre_Adventure' 8.0]\n",
      " ['Genre_Animation' 1.0]\n",
      " ['Genre_Children' 2.0]\n",
      " ['Genre_Comedy' 12.0]\n",
      " ['Genre_Crime' 4.0]\n",
      " ['Genre_Documentary' 0.0]\n",
      " ['Genre_Drama' 39.0]\n",
      " ['Genre_Fantasy' 3.0]\n",
      " ['Genre_Film-Noir' 4.0]\n",
      " ['Genre_Horror' 3.0]\n",
      " ['Genre_IMAX' 0.0]\n",
      " ['Genre_Musical' 7.0]\n",
      " ['Genre_Mystery' 7.0]\n",
      " ['Genre_Romance' 8.0]\n",
      " ['Genre_Sci-Fi' 0.0]\n",
      " ['Genre_Thriller' 14.0]\n",
      " ['Genre_War' 4.0]\n",
      " ['Genre_Western' 0.0]\n",
      " ['Genre_(no genres listed)' 0.0]]\n",
      "      movieId                                              title  \\\n",
      "723       902                      Breakfast at Tiffany's (1961)   \n",
      "951      1193             One Flew Over the Cuckoo's Nest (1975)   \n",
      "1288     1617                           L.A. Confidential (1997)   \n",
      "1691     2133                   Adventures in Babysitting (1987)   \n",
      "2098     2622  William Shakespeare's A Midsummer Night's Drea...   \n",
      "2553     3176                    Talented Mr. Ripley, The (1999)   \n",
      "3113     3897                               Almost Famous (2000)   \n",
      "3145     3936                        Phantom of the Opera (1943)   \n",
      "3169     3963                 Unsinkable Molly Brown, The (1964)   \n",
      "3173     3967                                Billy Elliot (2000)   \n",
      "3175     3969                              Pay It Forward (2000)   \n",
      "3182     3977                            Charlie's Angels (2000)   \n",
      "3188     3984                        Diamonds Are Forever (1971)   \n",
      "3191     3987                                      Bounce (2000)   \n",
      "3194     3990                 Rugrats in Paris: The Movie (2000)   \n",
      "3195     3991                              102 Dalmatians (2000)   \n",
      "3203     4000                                 Bounty, The (1984)   \n",
      "3205     4002                Planes, Trains & Automobiles (1987)   \n",
      "3209     4007                                 Wall Street (1987)   \n",
      "3210     4008                  Born on the Fourth of July (1989)   \n",
      "\n",
      "                                genres  \n",
      "723                      Drama|Romance  \n",
      "951                              Drama  \n",
      "1288  Crime|Film-Noir|Mystery|Thriller  \n",
      "1691                  Adventure|Comedy  \n",
      "2098                    Comedy|Fantasy  \n",
      "2553            Drama|Mystery|Thriller  \n",
      "3113                             Drama  \n",
      "3145           Horror|Musical|Thriller  \n",
      "3169                           Musical  \n",
      "3173                             Drama  \n",
      "3175                             Drama  \n",
      "3182                     Action|Comedy  \n",
      "3188         Action|Adventure|Thriller  \n",
      "3191                     Drama|Romance  \n",
      "3194         Animation|Children|Comedy  \n",
      "3195                   Children|Comedy  \n",
      "3203                   Adventure|Drama  \n",
      "3205                            Comedy  \n",
      "3209                             Drama  \n",
      "3210                         Drama|War  \n",
      "      movieId                                              title  \\\n",
      "50         53                                    Lamerica (1994)   \n",
      "269       301                  Picture Bride (Bijo photo) (1994)   \n",
      "277       309  Red Firecracker, Green Firecracker (Pao Da Shu...   \n",
      "931      1172     Cinema Paradiso (Nuovo cinema Paradiso) (1989)   \n",
      "984      1228                                 Raging Bull (1980)   \n",
      "2504     3112                               'night Mother (1986)   \n",
      "2742     3437                                 Cool as Ice (1991)   \n",
      "2771     3470                                 Dersu Uzala (1975)   \n",
      "3303     4140                                 North Shore (1987)   \n",
      "4402     5960                               Bad Influence (1990)   \n",
      "\n",
      "               genres  \n",
      "50    Adventure|Drama  \n",
      "269     Drama|Romance  \n",
      "277             Drama  \n",
      "931             Drama  \n",
      "984             Drama  \n",
      "2504            Drama  \n",
      "2742            Drama  \n",
      "2771  Adventure|Drama  \n",
      "3303    Drama|Romance  \n",
      "4402   Drama|Thriller  \n"
     ]
    }
   ],
   "source": [
    "GenrePreferences(444)\n",
    "RecommendMovies(444, 10)"
   ]
  },
  {
   "cell_type": "markdown",
   "metadata": {},
   "source": [
    "### Other"
   ]
  },
  {
   "cell_type": "markdown",
   "metadata": {},
   "source": [
    "TODO: \n",
    "\n",
    "Features:\n",
    "    - Tag features\n",
    "    - Genome features\n",
    "    - Kmeans features\n",
    "    + User genre preferences\n",
    "    - User genre preferences - sum!\n",
    "    + Movies: genre count\n",
    "    - User genre preferences, 1 if genre rating >=4, -1 if <4, 0 else\n",
    "    + User stat years features - count, mean, quantile, kurtosis, skewness, … - not good predictors!\n",
    "    + User Stat rating features - count, mean, quantile, kurtosis, skewness, …\n",
    "    + Movie Stat rating features - count, mean, quantile, kurtosis, skewness, …\n",
    "    - Movie type stat rating features - count, mean, quantile, kurtosis, skewness, …\n",
    "    + Movies user rated type stat rating features - count, mean, quantile, kurtosis, skewness, …\n",
    "    - Cosine similarity movie-user like xgboost input, similar to genre preferences\n",
    "    - Data from IMDB\n",
    "    - Tfidf - https://www.analyticsvidhya.com/blog/2015/08/beginners-guide-learn-content-based-recommender-systems/\n",
    "    - Tfidf for movies names, tags, genome dataset\n",
    "Evaluation/modelling:\n",
    "    - Map all movies rated >=4 as 1 and <4 as 0 and do classification instead of regression\n",
    "    - CV instead of holdout\n",
    "    - Instead of random holdout take 20% (newset) ratings of every user as holdout\n",
    "    + Feature selection (SelectKBest, ...)\n",
    "Test dataset :\n",
    "    - Reduce test dataset differently\n",
    "Model:\n",
    "    - Other models - rf, knn, nn, lm, FM!, ...\n",
    "    - Cold start - unrated movie or new movie or new user (cosine distance)\n"
   ]
  }
 ],
 "metadata": {
  "kernelspec": {
   "display_name": "Python 3",
   "language": "python",
   "name": "python3"
  },
  "language_info": {
   "codemirror_mode": {
    "name": "ipython",
    "version": 3
   },
   "file_extension": ".py",
   "mimetype": "text/x-python",
   "name": "python",
   "nbconvert_exporter": "python",
   "pygments_lexer": "ipython3",
   "version": "3.4.3"
  }
 },
 "nbformat": 4,
 "nbformat_minor": 2
}
